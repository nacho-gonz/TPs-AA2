{
 "cells": [
  {
   "cell_type": "markdown",
   "id": "908b0a37",
   "metadata": {},
   "source": [
    "# Problema 2\n",
    "Descripción:\n",
    "El objetivo de este ejercicio es implementar un sistema de clasificación de gestos de \"piedra\", \"papel\" o \"tijeras\" utilizando MediaPipe para la detección de las manos y una red neuronal densa para realizar la clasificación. El ejercicio se dividirá en tres partes, cada una implementada en un script de Python."
   ]
  },
  {
   "cell_type": "markdown",
   "id": "ef2e75d9",
   "metadata": {},
   "source": [
    "Doc de MediaPipe para detección de landmarks:\n",
    "\n",
    "https://ai.google.dev/edge/mediapipe/solutions/vision/hand_landmarker\n",
    "\n",
    "## Objetivo:\n",
    "- 1) Grabación del dataset de gestos: En esta primera parte, se implementará un script llamado record-dataset.py, que permitirá grabar un dataset de gestos utilizando la cámara web y MediaPipe para detectar los landmarks (puntos clave) de la mano. Cada gesto se etiquetará como \"piedra\" (0), \"papel\" (1) o \"tijeras\" (2) y se almacenará junto con sus coordenadas en archivos .npy.\n",
    "\n",
    "- 2) Entrenamiento del clasificador de gestos: En esta segunda parte, se implementará un script llamado train-gesture-classifier.py, donde se entrenará una red neuronal densa utilizando los datos de los landmarks obtenidos en la primera parte. El modelo resultante será capaz de clasificar los gestos basándose en las posiciones de los puntos clave de la mano.\n",
    "\n",
    "- 3) Prueba del sistema completo: En la tercera parte, se implementará un script llamado rock-paper-scissors.py, que tomará como entrada la imagen de la cámara web, utilizará MediaPipe para detectar los landmarks de la mano, y clasificará el gesto en \"piedra\", \"papel\" o \"tijeras\" utilizando el modelo entrenado.\n",
    "\n",
    "## Tareas:\n",
    "\n",
    "- Script 1: Grabación del dataset (record-dataset.py)\n",
    "    - Usar la cámara web para capturar imágenes de la mano.\n",
    "    - Utilizar MediaPipe para detectar los landmarks de la mano (21 puntos clave con coordenadas x y y).\n",
    "    - Almacenar las coordenadas de los landmarks junto con la etiqueta correspondiente (0 para \"piedra\", 1 para \"papel\", 2 para \"tijeras\") en archivos .npy (por ejemplo, rps_dataset.npy y rps_labels.npy).\n",
    "\n",
    "- Script 2: Entrenamiento del clasificador (train-gesture-classifier.py)\n",
    "    - Cargar los datos del dataset grabado en la primera parte.\n",
    "    - Implementar una red neuronal densa que tome como entrada las coordenadas x y y de los 21 puntos clave (un total de 42 entradas).\n",
    "    - Entrenar la red para clasificar los gestos en \"piedra\", \"papel\" o \"tijeras\" usando el dataset.\n",
    "    - Guardar el modelo entrenado en un archivo (por ejemplo, rps_model.h5).\n",
    "\n",
    "- Script 3: Prueba del sistema completo (rock-paper-scissors.py)\n",
    "    - Cargar el modelo entrenado.\n",
    "    - Capturar imágenes de la cámara web en tiempo real.\n",
    "    - Usar MediaPipe para detectar los landmarks y alimentar estos datos al modelo para clasificar el gesto.\n",
    "    - Mostrar el gesto reconocido en pantalla.\n",
    "\n"
   ]
  },
  {
   "cell_type": "markdown",
   "id": "766c5863",
   "metadata": {},
   "source": [
    "## Script 1"
   ]
  },
  {
   "cell_type": "markdown",
   "id": "792c0c70",
   "metadata": {},
   "source": [
    "### Librerias"
   ]
  },
  {
   "cell_type": "code",
   "execution_count": 3,
   "id": "59b70c3c",
   "metadata": {},
   "outputs": [
    {
     "name": "stdout",
     "output_type": "stream",
     "text": [
      "Note: you may need to restart the kernel to use updated packages.\n"
     ]
    },
    {
     "name": "stderr",
     "output_type": "stream",
     "text": [
      "ERROR: Could not install packages due to an OSError: [WinError 5] Access is denied: 'c:\\\\Users\\\\Ignacio González\\\\Desktop\\\\unr\\\\3A - 1C\\\\AA2\\\\TPs-AA2\\\\.venv\\\\Lib\\\\site-packages\\\\cv2\\\\cv2.pyd'\n",
      "Check the permissions.\n",
      "\n"
     ]
    }
   ],
   "source": [
    "%pip install -q opencv-python"
   ]
  },
  {
   "cell_type": "code",
   "execution_count": 1,
   "id": "d94a70fa",
   "metadata": {},
   "outputs": [],
   "source": [
    "import mediapipe as mp\n",
    "from mediapipe.tasks import python\n",
    "from mediapipe.tasks.python import vision\n",
    "import cv2\n",
    "import time\n",
    "import os\n",
    "import urllib.request\n",
    "import numpy as np"
   ]
  },
  {
   "cell_type": "markdown",
   "id": "f8b88b67",
   "metadata": {},
   "source": [
    "### Grabar de imágenes"
   ]
  },
  {
   "cell_type": "code",
   "execution_count": null,
   "id": "c7076bad",
   "metadata": {},
   "outputs": [],
   "source": [
    "webcam = cv2.VideoCapture(0)\n",
    "counter = 1\n",
    "\n",
    "print(\"--- Instrucciones ---\")\n",
    "print(\"Presiona 's' para guardar una foto.\")\n",
    "print(\"Presiona 'q' para salir.\")\n",
    "\n",
    "while True:\n",
    "    try:\n",
    "        check, frame = webcam.read()\n",
    "        if not check:\n",
    "            print(\"No se pudo capturar el frame.\")\n",
    "            break\n",
    "\n",
    "        cv2.imshow(\"Capturando (Presiona 's' para guardar, 'q' para salir)\", frame)\n",
    "\n",
    "        key = cv2.waitKey(1)\n",
    "\n",
    "        if key == ord('s'): \n",
    "            dir = f\"./fotos/piedra\"\n",
    "            filename = f\"{dir}/piedra_{counter}.jpg\"\n",
    "            os.makedirs(dir, exist_ok=True)\n",
    "            cv2.imwrite(filename, frame)\n",
    "            print(f\"Foto guardada como: {filename}\")\n",
    "            counter += 1 \n",
    "\n",
    "        elif key == ord('q'):\n",
    "            print(\"Apagando cámara...\")\n",
    "            webcam.release()\n",
    "            cv2.destroyAllWindows()\n",
    "            print(\"Programa terminado.\")\n",
    "            break\n",
    "\n",
    "    except KeyboardInterrupt:\n",
    "        print(\"\\nApagando cámara...\")\n",
    "        webcam.release()\n",
    "        cv2.destroyAllWindows()\n",
    "        print(\"Programa terminado.\")\n",
    "        break"
   ]
  },
  {
   "cell_type": "markdown",
   "id": "670cd2e5",
   "metadata": {},
   "source": [
    "### Encontrar landmarks y guardarlos"
   ]
  },
  {
   "cell_type": "code",
   "execution_count": 8,
   "id": "1e931034",
   "metadata": {},
   "outputs": [
    {
     "data": {
      "text/plain": [
       "('model.task', <http.client.HTTPMessage at 0x24bee439870>)"
      ]
     },
     "execution_count": 8,
     "metadata": {},
     "output_type": "execute_result"
    }
   ],
   "source": [
    "url = 'https://storage.googleapis.com/mediapipe-models/hand_landmarker/hand_landmarker/float16/1/hand_landmarker.task'\n",
    "\n",
    "urllib.request.urlretrieve(url, \"model.task\")"
   ]
  },
  {
   "cell_type": "code",
   "execution_count": 3,
   "id": "63a6e92f",
   "metadata": {},
   "outputs": [],
   "source": [
    "base_options = python.BaseOptions(model_asset_path='c:/models/model.task')\n",
    "options = vision.HandLandmarkerOptions(base_options=base_options,\n",
    "                                        num_hands=1)"
   ]
  },
  {
   "cell_type": "code",
   "execution_count": 4,
   "id": "31b0adac",
   "metadata": {},
   "outputs": [],
   "source": [
    "detector = vision.HandLandmarker.create_from_options(options)\n"
   ]
  },
  {
   "cell_type": "code",
   "execution_count": 7,
   "id": "e2c94f7f",
   "metadata": {},
   "outputs": [],
   "source": [
    "lista_puntos = []\n",
    "lista_labels = []\n",
    "ppt = ['papel','piedra','tijera']\n",
    "\n",
    "\n",
    "for gesto in ppt:\n",
    "    for i, foto in enumerate(os.listdir(f'./fotos/{gesto}')):\n",
    "        mp_image = mp.Image.create_from_file(f'./fotos/{gesto}/{gesto}_{i+1}.jpg')\n",
    "        if gesto == 'papel':\n",
    "            lista_labels.append(1)\n",
    "        elif gesto == 'piedra':\n",
    "            lista_labels.append(0)\n",
    "        else:\n",
    "            lista_labels.append(2)\n",
    "\n",
    "        hand_landmarker_result = detector.detect(mp_image)\n",
    "        lista_puntos.append([coord for lm in hand_landmarker_result.hand_landmarks[0] for coord in (lm.x, lm.y)])\n",
    "\n",
    "\n",
    "for gesto in ppt:\n",
    "    for i, foto in enumerate(os.listdir(f'./fotos/fotos_Gonza/{gesto}')):\n",
    "        mp_image = mp.Image.create_from_file(f'./fotos/fotos_Gonza/{gesto}/{foto}')\n",
    "        if gesto == 'papel':\n",
    "            lista_labels.append(1)\n",
    "        elif gesto == 'piedra':\n",
    "            lista_labels.append(0)\n",
    "        else:\n",
    "            lista_labels.append(2)\n",
    "\n",
    "        hand_landmarker_result = detector.detect(mp_image)\n",
    "        try:\n",
    "            lista_puntos.append([coord for lm in hand_landmarker_result.hand_landmarks[0] for coord in (lm.x, lm.y)])\n",
    "        except:\n",
    "            lista_labels.pop()\n",
    "\n",
    "\n",
    "ppt_2 = ['Imagenes_mano_tijera', 'Imagenes_mano_papel', 'Imagenes_mano_piedra']\n",
    "\n",
    "for carpeta in ppt_2:\n",
    "    eleccion = carpeta.split('_')[2]\n",
    "    for i,foto in enumerate(os.listdir(f'./fotos/{carpeta}')):\n",
    "        mp_image = mp.Image.create_from_file(f'./fotos/{carpeta}/{eleccion}_{i+1}.jpg')\n",
    "        if eleccion == 'papel':\n",
    "            lista_labels.append(1)\n",
    "        elif gesto == 'piedra':\n",
    "            lista_labels.append(0)\n",
    "        else:\n",
    "            lista_labels.append(2)\n",
    "        \n",
    "        hand_landmarker_result = detector.detect(mp_image)\n",
    "        try:\n",
    "            lista_puntos.append([coord for lm in hand_landmarker_result.hand_landmarks[0] for coord in (lm.x, lm.y)])\n",
    "        except:\n",
    "            lista_labels.pop()"
   ]
  },
  {
   "cell_type": "code",
   "execution_count": 8,
   "id": "6a82a982",
   "metadata": {},
   "outputs": [],
   "source": [
    "np.save('./rps_dataset.npy', lista_puntos)\n",
    "np.save('./rps_labels.npy', lista_labels)"
   ]
  },
  {
   "cell_type": "markdown",
   "id": "2719e34b",
   "metadata": {},
   "source": [
    "## Script 2"
   ]
  },
  {
   "cell_type": "markdown",
   "id": "8d993e7f",
   "metadata": {},
   "source": [
    "### Librerias"
   ]
  },
  {
   "cell_type": "code",
   "execution_count": 2,
   "id": "c9485e80",
   "metadata": {},
   "outputs": [],
   "source": [
    "import matplotlib.pyplot as plt\n",
    "import pandas as pd\n",
    "import tensorflow as tf\n",
    "from tensorflow.keras.models import Sequential\n",
    "from tensorflow.keras.layers import Dense, Flatten\n",
    "from pathlib import Path\n",
    "from keras.layers import Input, RandomFlip, RandomContrast, BatchNormalization, RandomTranslation, Flatten, Dropout\n",
    "from keras.layers import Dense, Conv2D, Activation, MaxPooling2D, GlobalMaxPooling2D, Rescaling\n",
    "from tensorflow.keras.callbacks import ModelCheckpoint, ReduceLROnPlateau, EarlyStopping\n",
    "from sklearn.model_selection import train_test_split\n",
    "import numpy as np"
   ]
  },
  {
   "cell_type": "markdown",
   "id": "ebd5d1fc",
   "metadata": {},
   "source": [
    "### Entrenamiento del clasificador"
   ]
  },
  {
   "cell_type": "code",
   "execution_count": 9,
   "id": "2cfe3e77",
   "metadata": {},
   "outputs": [],
   "source": [
    "x_data = np.load('./rps_dataset.npy')\n",
    "y_data = np.load('./rps_labels.npy')"
   ]
  },
  {
   "cell_type": "code",
   "execution_count": 10,
   "id": "44972559",
   "metadata": {},
   "outputs": [],
   "source": [
    "x_temp, x_test, y_temp, y_test = train_test_split(x_data, y_data, test_size=0.2,random_state=123,stratify=y_data)\n",
    "\n",
    "x_train, x_val, y_train, y_val = train_test_split(x_temp, y_temp, test_size=0.25, random_state=321, stratify=y_temp)"
   ]
  },
  {
   "cell_type": "code",
   "execution_count": 25,
   "id": "95516f7b",
   "metadata": {},
   "outputs": [],
   "source": [
    "from tensorflow.keras.utils import to_categorical\n",
    "\n",
    "# Suponiendo que tenés 3 clases (0, 1, 2)\n",
    "y_train_cat = to_categorical(y_train, num_classes=3)\n",
    "y_val_cat = to_categorical(y_val, num_classes=3)\n",
    "y_test_cat = to_categorical(y_test, num_classes=3)"
   ]
  },
  {
   "cell_type": "code",
   "execution_count": 26,
   "id": "fac39e9d",
   "metadata": {},
   "outputs": [],
   "source": [
    "# Configurar para que TensorFlow utilice la GPU por defecto\n",
    "gpus = tf.config.experimental.list_physical_devices('GPU')\n",
    "if gpus:\n",
    "    try:\n",
    "        # Configurar para que TensorFlow asigne memoria dinámicamente\n",
    "        for gpu in gpus:\n",
    "            tf.config.experimental.set_memory_growth(gpu, True)\n",
    "        # Especificar la GPU por defecto\n",
    "        logical_gpus = tf.config.experimental.list_logical_devices('GPU')\n",
    "        print(len(gpus), \"Physical GPUs,\", len(logical_gpus), \"Logical GPUs\")\n",
    "    except RuntimeError as e:\n",
    "        # Manejar error\n",
    "        print(e)"
   ]
  },
  {
   "cell_type": "code",
   "execution_count": null,
   "id": "55358795",
   "metadata": {},
   "outputs": [],
   "source": [
    "def build_model(input_shape):\n",
    "    i = Input(input_shape, dtype=tf.float32)\n",
    "\n",
    "    x = Dense(32)(i)\n",
    "    x = Activation('relu')(x)\n",
    "    x = Dropout(0.1)(x)\n",
    "\n",
    "    x = Dense(16)(x)\n",
    "    x = Activation('relu')(x)\n",
    "    x = Dropout(0.1)(x)\n",
    "\n",
    "    # x = Dense(64)(x)\n",
    "    # x = Activation('relu')(x)\n",
    "    # x = Dropout(0.1)(x)\n",
    "\n",
    "    x = Dense(3)(x)\n",
    "    output = Activation('softmax')(x)\n",
    "\n",
    "    return tf.keras.Model(inputs=i, outputs=output)\n"
   ]
  },
  {
   "cell_type": "code",
   "execution_count": 28,
   "id": "5ca68194",
   "metadata": {},
   "outputs": [
    {
     "name": "stdout",
     "output_type": "stream",
     "text": [
      "Building model\n"
     ]
    }
   ],
   "source": [
    "print(\"Building model\")\n",
    "model = build_model(input_shape=(x_train.shape[1],))\n",
    "\n",
    "model.compile(\n",
    "    optimizer='adam',\n",
    "    loss=\"categorical_crossentropy\",\n",
    "    metrics=['accuracy'])"
   ]
  },
  {
   "cell_type": "code",
   "execution_count": 29,
   "id": "01eff09c",
   "metadata": {},
   "outputs": [
    {
     "data": {
      "text/html": [
       "<pre style=\"white-space:pre;overflow-x:auto;line-height:normal;font-family:Menlo,'DejaVu Sans Mono',consolas,'Courier New',monospace\"><span style=\"font-weight: bold\">Model: \"functional_1\"</span>\n",
       "</pre>\n"
      ],
      "text/plain": [
       "\u001b[1mModel: \"functional_1\"\u001b[0m\n"
      ]
     },
     "metadata": {},
     "output_type": "display_data"
    },
    {
     "data": {
      "text/html": [
       "<pre style=\"white-space:pre;overflow-x:auto;line-height:normal;font-family:Menlo,'DejaVu Sans Mono',consolas,'Courier New',monospace\">┏━━━━━━━━━━━━━━━━━━━━━━━━━━━━━━━━━┳━━━━━━━━━━━━━━━━━━━━━━━━┳━━━━━━━━━━━━━━━┓\n",
       "┃<span style=\"font-weight: bold\"> Layer (type)                    </span>┃<span style=\"font-weight: bold\"> Output Shape           </span>┃<span style=\"font-weight: bold\">       Param # </span>┃\n",
       "┡━━━━━━━━━━━━━━━━━━━━━━━━━━━━━━━━━╇━━━━━━━━━━━━━━━━━━━━━━━━╇━━━━━━━━━━━━━━━┩\n",
       "│ input_layer_1 (<span style=\"color: #0087ff; text-decoration-color: #0087ff\">InputLayer</span>)      │ (<span style=\"color: #00d7ff; text-decoration-color: #00d7ff\">None</span>, <span style=\"color: #00af00; text-decoration-color: #00af00\">42</span>)             │             <span style=\"color: #00af00; text-decoration-color: #00af00\">0</span> │\n",
       "├─────────────────────────────────┼────────────────────────┼───────────────┤\n",
       "│ dense_3 (<span style=\"color: #0087ff; text-decoration-color: #0087ff\">Dense</span>)                 │ (<span style=\"color: #00d7ff; text-decoration-color: #00d7ff\">None</span>, <span style=\"color: #00af00; text-decoration-color: #00af00\">32</span>)             │         <span style=\"color: #00af00; text-decoration-color: #00af00\">1,376</span> │\n",
       "├─────────────────────────────────┼────────────────────────┼───────────────┤\n",
       "│ activation_3 (<span style=\"color: #0087ff; text-decoration-color: #0087ff\">Activation</span>)       │ (<span style=\"color: #00d7ff; text-decoration-color: #00d7ff\">None</span>, <span style=\"color: #00af00; text-decoration-color: #00af00\">32</span>)             │             <span style=\"color: #00af00; text-decoration-color: #00af00\">0</span> │\n",
       "├─────────────────────────────────┼────────────────────────┼───────────────┤\n",
       "│ dropout_2 (<span style=\"color: #0087ff; text-decoration-color: #0087ff\">Dropout</span>)             │ (<span style=\"color: #00d7ff; text-decoration-color: #00d7ff\">None</span>, <span style=\"color: #00af00; text-decoration-color: #00af00\">32</span>)             │             <span style=\"color: #00af00; text-decoration-color: #00af00\">0</span> │\n",
       "├─────────────────────────────────┼────────────────────────┼───────────────┤\n",
       "│ dense_4 (<span style=\"color: #0087ff; text-decoration-color: #0087ff\">Dense</span>)                 │ (<span style=\"color: #00d7ff; text-decoration-color: #00d7ff\">None</span>, <span style=\"color: #00af00; text-decoration-color: #00af00\">16</span>)             │           <span style=\"color: #00af00; text-decoration-color: #00af00\">528</span> │\n",
       "├─────────────────────────────────┼────────────────────────┼───────────────┤\n",
       "│ activation_4 (<span style=\"color: #0087ff; text-decoration-color: #0087ff\">Activation</span>)       │ (<span style=\"color: #00d7ff; text-decoration-color: #00d7ff\">None</span>, <span style=\"color: #00af00; text-decoration-color: #00af00\">16</span>)             │             <span style=\"color: #00af00; text-decoration-color: #00af00\">0</span> │\n",
       "├─────────────────────────────────┼────────────────────────┼───────────────┤\n",
       "│ dropout_3 (<span style=\"color: #0087ff; text-decoration-color: #0087ff\">Dropout</span>)             │ (<span style=\"color: #00d7ff; text-decoration-color: #00d7ff\">None</span>, <span style=\"color: #00af00; text-decoration-color: #00af00\">16</span>)             │             <span style=\"color: #00af00; text-decoration-color: #00af00\">0</span> │\n",
       "├─────────────────────────────────┼────────────────────────┼───────────────┤\n",
       "│ dense_5 (<span style=\"color: #0087ff; text-decoration-color: #0087ff\">Dense</span>)                 │ (<span style=\"color: #00d7ff; text-decoration-color: #00d7ff\">None</span>, <span style=\"color: #00af00; text-decoration-color: #00af00\">3</span>)              │            <span style=\"color: #00af00; text-decoration-color: #00af00\">51</span> │\n",
       "├─────────────────────────────────┼────────────────────────┼───────────────┤\n",
       "│ activation_5 (<span style=\"color: #0087ff; text-decoration-color: #0087ff\">Activation</span>)       │ (<span style=\"color: #00d7ff; text-decoration-color: #00d7ff\">None</span>, <span style=\"color: #00af00; text-decoration-color: #00af00\">3</span>)              │             <span style=\"color: #00af00; text-decoration-color: #00af00\">0</span> │\n",
       "└─────────────────────────────────┴────────────────────────┴───────────────┘\n",
       "</pre>\n"
      ],
      "text/plain": [
       "┏━━━━━━━━━━━━━━━━━━━━━━━━━━━━━━━━━┳━━━━━━━━━━━━━━━━━━━━━━━━┳━━━━━━━━━━━━━━━┓\n",
       "┃\u001b[1m \u001b[0m\u001b[1mLayer (type)                   \u001b[0m\u001b[1m \u001b[0m┃\u001b[1m \u001b[0m\u001b[1mOutput Shape          \u001b[0m\u001b[1m \u001b[0m┃\u001b[1m \u001b[0m\u001b[1m      Param #\u001b[0m\u001b[1m \u001b[0m┃\n",
       "┡━━━━━━━━━━━━━━━━━━━━━━━━━━━━━━━━━╇━━━━━━━━━━━━━━━━━━━━━━━━╇━━━━━━━━━━━━━━━┩\n",
       "│ input_layer_1 (\u001b[38;5;33mInputLayer\u001b[0m)      │ (\u001b[38;5;45mNone\u001b[0m, \u001b[38;5;34m42\u001b[0m)             │             \u001b[38;5;34m0\u001b[0m │\n",
       "├─────────────────────────────────┼────────────────────────┼───────────────┤\n",
       "│ dense_3 (\u001b[38;5;33mDense\u001b[0m)                 │ (\u001b[38;5;45mNone\u001b[0m, \u001b[38;5;34m32\u001b[0m)             │         \u001b[38;5;34m1,376\u001b[0m │\n",
       "├─────────────────────────────────┼────────────────────────┼───────────────┤\n",
       "│ activation_3 (\u001b[38;5;33mActivation\u001b[0m)       │ (\u001b[38;5;45mNone\u001b[0m, \u001b[38;5;34m32\u001b[0m)             │             \u001b[38;5;34m0\u001b[0m │\n",
       "├─────────────────────────────────┼────────────────────────┼───────────────┤\n",
       "│ dropout_2 (\u001b[38;5;33mDropout\u001b[0m)             │ (\u001b[38;5;45mNone\u001b[0m, \u001b[38;5;34m32\u001b[0m)             │             \u001b[38;5;34m0\u001b[0m │\n",
       "├─────────────────────────────────┼────────────────────────┼───────────────┤\n",
       "│ dense_4 (\u001b[38;5;33mDense\u001b[0m)                 │ (\u001b[38;5;45mNone\u001b[0m, \u001b[38;5;34m16\u001b[0m)             │           \u001b[38;5;34m528\u001b[0m │\n",
       "├─────────────────────────────────┼────────────────────────┼───────────────┤\n",
       "│ activation_4 (\u001b[38;5;33mActivation\u001b[0m)       │ (\u001b[38;5;45mNone\u001b[0m, \u001b[38;5;34m16\u001b[0m)             │             \u001b[38;5;34m0\u001b[0m │\n",
       "├─────────────────────────────────┼────────────────────────┼───────────────┤\n",
       "│ dropout_3 (\u001b[38;5;33mDropout\u001b[0m)             │ (\u001b[38;5;45mNone\u001b[0m, \u001b[38;5;34m16\u001b[0m)             │             \u001b[38;5;34m0\u001b[0m │\n",
       "├─────────────────────────────────┼────────────────────────┼───────────────┤\n",
       "│ dense_5 (\u001b[38;5;33mDense\u001b[0m)                 │ (\u001b[38;5;45mNone\u001b[0m, \u001b[38;5;34m3\u001b[0m)              │            \u001b[38;5;34m51\u001b[0m │\n",
       "├─────────────────────────────────┼────────────────────────┼───────────────┤\n",
       "│ activation_5 (\u001b[38;5;33mActivation\u001b[0m)       │ (\u001b[38;5;45mNone\u001b[0m, \u001b[38;5;34m3\u001b[0m)              │             \u001b[38;5;34m0\u001b[0m │\n",
       "└─────────────────────────────────┴────────────────────────┴───────────────┘\n"
      ]
     },
     "metadata": {},
     "output_type": "display_data"
    },
    {
     "data": {
      "text/html": [
       "<pre style=\"white-space:pre;overflow-x:auto;line-height:normal;font-family:Menlo,'DejaVu Sans Mono',consolas,'Courier New',monospace\"><span style=\"font-weight: bold\"> Total params: </span><span style=\"color: #00af00; text-decoration-color: #00af00\">1,955</span> (7.64 KB)\n",
       "</pre>\n"
      ],
      "text/plain": [
       "\u001b[1m Total params: \u001b[0m\u001b[38;5;34m1,955\u001b[0m (7.64 KB)\n"
      ]
     },
     "metadata": {},
     "output_type": "display_data"
    },
    {
     "data": {
      "text/html": [
       "<pre style=\"white-space:pre;overflow-x:auto;line-height:normal;font-family:Menlo,'DejaVu Sans Mono',consolas,'Courier New',monospace\"><span style=\"font-weight: bold\"> Trainable params: </span><span style=\"color: #00af00; text-decoration-color: #00af00\">1,955</span> (7.64 KB)\n",
       "</pre>\n"
      ],
      "text/plain": [
       "\u001b[1m Trainable params: \u001b[0m\u001b[38;5;34m1,955\u001b[0m (7.64 KB)\n"
      ]
     },
     "metadata": {},
     "output_type": "display_data"
    },
    {
     "data": {
      "text/html": [
       "<pre style=\"white-space:pre;overflow-x:auto;line-height:normal;font-family:Menlo,'DejaVu Sans Mono',consolas,'Courier New',monospace\"><span style=\"font-weight: bold\"> Non-trainable params: </span><span style=\"color: #00af00; text-decoration-color: #00af00\">0</span> (0.00 B)\n",
       "</pre>\n"
      ],
      "text/plain": [
       "\u001b[1m Non-trainable params: \u001b[0m\u001b[38;5;34m0\u001b[0m (0.00 B)\n"
      ]
     },
     "metadata": {},
     "output_type": "display_data"
    }
   ],
   "source": [
    "model.summary()"
   ]
  },
  {
   "cell_type": "code",
   "execution_count": 30,
   "id": "449b9758",
   "metadata": {},
   "outputs": [],
   "source": [
    "early_stopping = EarlyStopping(monitor=\"val_loss\", patience=20, verbose=0, mode=\"min\", restore_best_weights=True)\n",
    "\n",
    "reduce_lr = ReduceLROnPlateau(\n",
    "    monitor=\"loss\", factor=0.5, patience=8, verbose=1, min_delta=1e-4, mode=\"min\"\n",
    ")"
   ]
  },
  {
   "cell_type": "code",
   "execution_count": 31,
   "id": "6383a967",
   "metadata": {},
   "outputs": [
    {
     "name": "stdout",
     "output_type": "stream",
     "text": [
      "Epoch 1/100\n",
      "\u001b[1m56/56\u001b[0m \u001b[32m━━━━━━━━━━━━━━━━━━━━\u001b[0m\u001b[37m\u001b[0m \u001b[1m2s\u001b[0m 12ms/step - accuracy: 0.3855 - loss: 1.0954 - val_accuracy: 0.4524 - val_loss: 1.0547 - learning_rate: 0.0010\n",
      "Epoch 2/100\n",
      "\u001b[1m56/56\u001b[0m \u001b[32m━━━━━━━━━━━━━━━━━━━━\u001b[0m\u001b[37m\u001b[0m \u001b[1m0s\u001b[0m 5ms/step - accuracy: 0.4469 - loss: 1.0553 - val_accuracy: 0.4371 - val_loss: 1.0208 - learning_rate: 0.0010\n",
      "Epoch 3/100\n",
      "\u001b[1m56/56\u001b[0m \u001b[32m━━━━━━━━━━━━━━━━━━━━\u001b[0m\u001b[37m\u001b[0m \u001b[1m0s\u001b[0m 5ms/step - accuracy: 0.4888 - loss: 1.0241 - val_accuracy: 0.5986 - val_loss: 0.9970 - learning_rate: 0.0010\n",
      "Epoch 4/100\n",
      "\u001b[1m56/56\u001b[0m \u001b[32m━━━━━━━━━━━━━━━━━━━━\u001b[0m\u001b[37m\u001b[0m \u001b[1m0s\u001b[0m 5ms/step - accuracy: 0.5335 - loss: 0.9893 - val_accuracy: 0.5425 - val_loss: 0.9243 - learning_rate: 0.0010\n",
      "Epoch 5/100\n",
      "\u001b[1m56/56\u001b[0m \u001b[32m━━━━━━━━━━━━━━━━━━━━\u001b[0m\u001b[37m\u001b[0m \u001b[1m0s\u001b[0m 5ms/step - accuracy: 0.5683 - loss: 0.9241 - val_accuracy: 0.7670 - val_loss: 0.8554 - learning_rate: 0.0010\n",
      "Epoch 6/100\n",
      "\u001b[1m56/56\u001b[0m \u001b[32m━━━━━━━━━━━━━━━━━━━━\u001b[0m\u001b[37m\u001b[0m \u001b[1m0s\u001b[0m 5ms/step - accuracy: 0.6336 - loss: 0.8648 - val_accuracy: 0.7687 - val_loss: 0.7761 - learning_rate: 0.0010\n",
      "Epoch 7/100\n",
      "\u001b[1m56/56\u001b[0m \u001b[32m━━━━━━━━━━━━━━━━━━━━\u001b[0m\u001b[37m\u001b[0m \u001b[1m0s\u001b[0m 4ms/step - accuracy: 0.7055 - loss: 0.7758 - val_accuracy: 0.8197 - val_loss: 0.6952 - learning_rate: 0.0010\n",
      "Epoch 8/100\n",
      "\u001b[1m56/56\u001b[0m \u001b[32m━━━━━━━━━━━━━━━━━━━━\u001b[0m\u001b[37m\u001b[0m \u001b[1m0s\u001b[0m 5ms/step - accuracy: 0.7596 - loss: 0.6986 - val_accuracy: 0.8469 - val_loss: 0.6212 - learning_rate: 0.0010\n",
      "Epoch 9/100\n",
      "\u001b[1m56/56\u001b[0m \u001b[32m━━━━━━━━━━━━━━━━━━━━\u001b[0m\u001b[37m\u001b[0m \u001b[1m0s\u001b[0m 5ms/step - accuracy: 0.7945 - loss: 0.6310 - val_accuracy: 0.8486 - val_loss: 0.5521 - learning_rate: 0.0010\n",
      "Epoch 10/100\n",
      "\u001b[1m56/56\u001b[0m \u001b[32m━━━━━━━━━━━━━━━━━━━━\u001b[0m\u001b[37m\u001b[0m \u001b[1m0s\u001b[0m 5ms/step - accuracy: 0.8312 - loss: 0.5574 - val_accuracy: 0.8384 - val_loss: 0.4933 - learning_rate: 0.0010\n",
      "Epoch 11/100\n",
      "\u001b[1m56/56\u001b[0m \u001b[32m━━━━━━━━━━━━━━━━━━━━\u001b[0m\u001b[37m\u001b[0m \u001b[1m0s\u001b[0m 5ms/step - accuracy: 0.8333 - loss: 0.5044 - val_accuracy: 0.8350 - val_loss: 0.4655 - learning_rate: 0.0010\n",
      "Epoch 12/100\n",
      "\u001b[1m56/56\u001b[0m \u001b[32m━━━━━━━━━━━━━━━━━━━━\u001b[0m\u001b[37m\u001b[0m \u001b[1m0s\u001b[0m 5ms/step - accuracy: 0.8523 - loss: 0.4554 - val_accuracy: 0.8656 - val_loss: 0.3962 - learning_rate: 0.0010\n",
      "Epoch 13/100\n",
      "\u001b[1m56/56\u001b[0m \u001b[32m━━━━━━━━━━━━━━━━━━━━\u001b[0m\u001b[37m\u001b[0m \u001b[1m0s\u001b[0m 5ms/step - accuracy: 0.8673 - loss: 0.4170 - val_accuracy: 0.9065 - val_loss: 0.3553 - learning_rate: 0.0010\n",
      "Epoch 14/100\n",
      "\u001b[1m56/56\u001b[0m \u001b[32m━━━━━━━━━━━━━━━━━━━━\u001b[0m\u001b[37m\u001b[0m \u001b[1m0s\u001b[0m 5ms/step - accuracy: 0.8865 - loss: 0.3838 - val_accuracy: 0.9099 - val_loss: 0.3281 - learning_rate: 0.0010\n",
      "Epoch 15/100\n",
      "\u001b[1m56/56\u001b[0m \u001b[32m━━━━━━━━━━━━━━━━━━━━\u001b[0m\u001b[37m\u001b[0m \u001b[1m0s\u001b[0m 5ms/step - accuracy: 0.8983 - loss: 0.3657 - val_accuracy: 0.9524 - val_loss: 0.2813 - learning_rate: 0.0010\n",
      "Epoch 16/100\n",
      "\u001b[1m56/56\u001b[0m \u001b[32m━━━━━━━━━━━━━━━━━━━━\u001b[0m\u001b[37m\u001b[0m \u001b[1m0s\u001b[0m 4ms/step - accuracy: 0.9005 - loss: 0.3370 - val_accuracy: 0.9422 - val_loss: 0.2816 - learning_rate: 0.0010\n",
      "Epoch 17/100\n",
      "\u001b[1m56/56\u001b[0m \u001b[32m━━━━━━━━━━━━━━━━━━━━\u001b[0m\u001b[37m\u001b[0m \u001b[1m0s\u001b[0m 6ms/step - accuracy: 0.9279 - loss: 0.3057 - val_accuracy: 0.9524 - val_loss: 0.2493 - learning_rate: 0.0010\n",
      "Epoch 18/100\n",
      "\u001b[1m56/56\u001b[0m \u001b[32m━━━━━━━━━━━━━━━━━━━━\u001b[0m\u001b[37m\u001b[0m \u001b[1m0s\u001b[0m 4ms/step - accuracy: 0.9330 - loss: 0.2658 - val_accuracy: 0.9609 - val_loss: 0.2232 - learning_rate: 0.0010\n",
      "Epoch 19/100\n",
      "\u001b[1m56/56\u001b[0m \u001b[32m━━━━━━━━━━━━━━━━━━━━\u001b[0m\u001b[37m\u001b[0m \u001b[1m0s\u001b[0m 6ms/step - accuracy: 0.9137 - loss: 0.2775 - val_accuracy: 0.9524 - val_loss: 0.2199 - learning_rate: 0.0010\n",
      "Epoch 20/100\n",
      "\u001b[1m56/56\u001b[0m \u001b[32m━━━━━━━━━━━━━━━━━━━━\u001b[0m\u001b[37m\u001b[0m \u001b[1m0s\u001b[0m 5ms/step - accuracy: 0.9372 - loss: 0.2385 - val_accuracy: 0.9609 - val_loss: 0.1857 - learning_rate: 0.0010\n",
      "Epoch 21/100\n",
      "\u001b[1m56/56\u001b[0m \u001b[32m━━━━━━━━━━━━━━━━━━━━\u001b[0m\u001b[37m\u001b[0m \u001b[1m0s\u001b[0m 5ms/step - accuracy: 0.9399 - loss: 0.2271 - val_accuracy: 0.9592 - val_loss: 0.1822 - learning_rate: 0.0010\n",
      "Epoch 22/100\n",
      "\u001b[1m56/56\u001b[0m \u001b[32m━━━━━━━━━━━━━━━━━━━━\u001b[0m\u001b[37m\u001b[0m \u001b[1m0s\u001b[0m 5ms/step - accuracy: 0.9473 - loss: 0.2119 - val_accuracy: 0.9558 - val_loss: 0.1650 - learning_rate: 0.0010\n",
      "Epoch 23/100\n",
      "\u001b[1m56/56\u001b[0m \u001b[32m━━━━━━━━━━━━━━━━━━━━\u001b[0m\u001b[37m\u001b[0m \u001b[1m0s\u001b[0m 5ms/step - accuracy: 0.9441 - loss: 0.2069 - val_accuracy: 0.9575 - val_loss: 0.1606 - learning_rate: 0.0010\n",
      "Epoch 24/100\n",
      "\u001b[1m56/56\u001b[0m \u001b[32m━━━━━━━━━━━━━━━━━━━━\u001b[0m\u001b[37m\u001b[0m \u001b[1m0s\u001b[0m 6ms/step - accuracy: 0.9488 - loss: 0.2026 - val_accuracy: 0.9694 - val_loss: 0.1473 - learning_rate: 0.0010\n",
      "Epoch 25/100\n",
      "\u001b[1m56/56\u001b[0m \u001b[32m━━━━━━━━━━━━━━━━━━━━\u001b[0m\u001b[37m\u001b[0m \u001b[1m0s\u001b[0m 5ms/step - accuracy: 0.9548 - loss: 0.1909 - val_accuracy: 0.9626 - val_loss: 0.1388 - learning_rate: 0.0010\n",
      "Epoch 26/100\n",
      "\u001b[1m56/56\u001b[0m \u001b[32m━━━━━━━━━━━━━━━━━━━━\u001b[0m\u001b[37m\u001b[0m \u001b[1m0s\u001b[0m 5ms/step - accuracy: 0.9457 - loss: 0.1768 - val_accuracy: 0.9677 - val_loss: 0.1301 - learning_rate: 0.0010\n",
      "Epoch 27/100\n",
      "\u001b[1m56/56\u001b[0m \u001b[32m━━━━━━━━━━━━━━━━━━━━\u001b[0m\u001b[37m\u001b[0m \u001b[1m0s\u001b[0m 6ms/step - accuracy: 0.9409 - loss: 0.2042 - val_accuracy: 0.9643 - val_loss: 0.1286 - learning_rate: 0.0010\n",
      "Epoch 28/100\n",
      "\u001b[1m56/56\u001b[0m \u001b[32m━━━━━━━━━━━━━━━━━━━━\u001b[0m\u001b[37m\u001b[0m \u001b[1m0s\u001b[0m 6ms/step - accuracy: 0.9596 - loss: 0.1578 - val_accuracy: 0.9694 - val_loss: 0.1214 - learning_rate: 0.0010\n",
      "Epoch 29/100\n",
      "\u001b[1m56/56\u001b[0m \u001b[32m━━━━━━━━━━━━━━━━━━━━\u001b[0m\u001b[37m\u001b[0m \u001b[1m0s\u001b[0m 5ms/step - accuracy: 0.9585 - loss: 0.1423 - val_accuracy: 0.9677 - val_loss: 0.1257 - learning_rate: 0.0010\n",
      "Epoch 30/100\n",
      "\u001b[1m56/56\u001b[0m \u001b[32m━━━━━━━━━━━━━━━━━━━━\u001b[0m\u001b[37m\u001b[0m \u001b[1m0s\u001b[0m 5ms/step - accuracy: 0.9575 - loss: 0.1379 - val_accuracy: 0.9592 - val_loss: 0.1565 - learning_rate: 0.0010\n",
      "Epoch 31/100\n",
      "\u001b[1m56/56\u001b[0m \u001b[32m━━━━━━━━━━━━━━━━━━━━\u001b[0m\u001b[37m\u001b[0m \u001b[1m0s\u001b[0m 5ms/step - accuracy: 0.9631 - loss: 0.1459 - val_accuracy: 0.9728 - val_loss: 0.1065 - learning_rate: 0.0010\n",
      "Epoch 32/100\n",
      "\u001b[1m56/56\u001b[0m \u001b[32m━━━━━━━━━━━━━━━━━━━━\u001b[0m\u001b[37m\u001b[0m \u001b[1m0s\u001b[0m 5ms/step - accuracy: 0.9511 - loss: 0.1476 - val_accuracy: 0.9643 - val_loss: 0.1191 - learning_rate: 0.0010\n",
      "Epoch 33/100\n",
      "\u001b[1m56/56\u001b[0m \u001b[32m━━━━━━━━━━━━━━━━━━━━\u001b[0m\u001b[37m\u001b[0m \u001b[1m0s\u001b[0m 5ms/step - accuracy: 0.9607 - loss: 0.1365 - val_accuracy: 0.9711 - val_loss: 0.0994 - learning_rate: 0.0010\n",
      "Epoch 34/100\n",
      "\u001b[1m56/56\u001b[0m \u001b[32m━━━━━━━━━━━━━━━━━━━━\u001b[0m\u001b[37m\u001b[0m \u001b[1m0s\u001b[0m 6ms/step - accuracy: 0.9658 - loss: 0.1337 - val_accuracy: 0.9762 - val_loss: 0.0942 - learning_rate: 0.0010\n",
      "Epoch 35/100\n",
      "\u001b[1m56/56\u001b[0m \u001b[32m━━━━━━━━━━━━━━━━━━━━\u001b[0m\u001b[37m\u001b[0m \u001b[1m0s\u001b[0m 6ms/step - accuracy: 0.9576 - loss: 0.1351 - val_accuracy: 0.9745 - val_loss: 0.0950 - learning_rate: 0.0010\n",
      "Epoch 36/100\n",
      "\u001b[1m56/56\u001b[0m \u001b[32m━━━━━━━━━━━━━━━━━━━━\u001b[0m\u001b[37m\u001b[0m \u001b[1m0s\u001b[0m 5ms/step - accuracy: 0.9401 - loss: 0.1579 - val_accuracy: 0.9677 - val_loss: 0.0897 - learning_rate: 0.0010\n",
      "Epoch 37/100\n",
      "\u001b[1m56/56\u001b[0m \u001b[32m━━━━━━━━━━━━━━━━━━━━\u001b[0m\u001b[37m\u001b[0m \u001b[1m0s\u001b[0m 5ms/step - accuracy: 0.9655 - loss: 0.1200 - val_accuracy: 0.9762 - val_loss: 0.0918 - learning_rate: 0.0010\n",
      "Epoch 38/100\n",
      "\u001b[1m56/56\u001b[0m \u001b[32m━━━━━━━━━━━━━━━━━━━━\u001b[0m\u001b[37m\u001b[0m \u001b[1m0s\u001b[0m 5ms/step - accuracy: 0.9702 - loss: 0.1097 - val_accuracy: 0.9643 - val_loss: 0.1035 - learning_rate: 0.0010\n",
      "Epoch 39/100\n",
      "\u001b[1m56/56\u001b[0m \u001b[32m━━━━━━━━━━━━━━━━━━━━\u001b[0m\u001b[37m\u001b[0m \u001b[1m0s\u001b[0m 5ms/step - accuracy: 0.9554 - loss: 0.1296 - val_accuracy: 0.9745 - val_loss: 0.0846 - learning_rate: 0.0010\n",
      "Epoch 40/100\n",
      "\u001b[1m56/56\u001b[0m \u001b[32m━━━━━━━━━━━━━━━━━━━━\u001b[0m\u001b[37m\u001b[0m \u001b[1m0s\u001b[0m 5ms/step - accuracy: 0.9591 - loss: 0.1124 - val_accuracy: 0.9745 - val_loss: 0.0864 - learning_rate: 0.0010\n",
      "Epoch 41/100\n",
      "\u001b[1m56/56\u001b[0m \u001b[32m━━━━━━━━━━━━━━━━━━━━\u001b[0m\u001b[37m\u001b[0m \u001b[1m0s\u001b[0m 5ms/step - accuracy: 0.9683 - loss: 0.1065 - val_accuracy: 0.9745 - val_loss: 0.0939 - learning_rate: 0.0010\n",
      "Epoch 42/100\n",
      "\u001b[1m56/56\u001b[0m \u001b[32m━━━━━━━━━━━━━━━━━━━━\u001b[0m\u001b[37m\u001b[0m \u001b[1m0s\u001b[0m 5ms/step - accuracy: 0.9558 - loss: 0.1366 - val_accuracy: 0.9660 - val_loss: 0.1173 - learning_rate: 0.0010\n",
      "Epoch 43/100\n",
      "\u001b[1m56/56\u001b[0m \u001b[32m━━━━━━━━━━━━━━━━━━━━\u001b[0m\u001b[37m\u001b[0m \u001b[1m0s\u001b[0m 5ms/step - accuracy: 0.9662 - loss: 0.1207 - val_accuracy: 0.9762 - val_loss: 0.0848 - learning_rate: 0.0010\n",
      "Epoch 44/100\n",
      "\u001b[1m56/56\u001b[0m \u001b[32m━━━━━━━━━━━━━━━━━━━━\u001b[0m\u001b[37m\u001b[0m \u001b[1m0s\u001b[0m 5ms/step - accuracy: 0.9691 - loss: 0.1015 - val_accuracy: 0.9677 - val_loss: 0.1069 - learning_rate: 0.0010\n",
      "Epoch 45/100\n",
      "\u001b[1m56/56\u001b[0m \u001b[32m━━━━━━━━━━━━━━━━━━━━\u001b[0m\u001b[37m\u001b[0m \u001b[1m0s\u001b[0m 5ms/step - accuracy: 0.9513 - loss: 0.1255 - val_accuracy: 0.9728 - val_loss: 0.1017 - learning_rate: 0.0010\n",
      "Epoch 46/100\n",
      "\u001b[1m56/56\u001b[0m \u001b[32m━━━━━━━━━━━━━━━━━━━━\u001b[0m\u001b[37m\u001b[0m \u001b[1m0s\u001b[0m 5ms/step - accuracy: 0.9708 - loss: 0.0997 - val_accuracy: 0.9728 - val_loss: 0.0820 - learning_rate: 0.0010\n",
      "Epoch 47/100\n",
      "\u001b[1m56/56\u001b[0m \u001b[32m━━━━━━━━━━━━━━━━━━━━\u001b[0m\u001b[37m\u001b[0m \u001b[1m0s\u001b[0m 6ms/step - accuracy: 0.9760 - loss: 0.0796 - val_accuracy: 0.9609 - val_loss: 0.1139 - learning_rate: 0.0010\n",
      "Epoch 48/100\n",
      "\u001b[1m56/56\u001b[0m \u001b[32m━━━━━━━━━━━━━━━━━━━━\u001b[0m\u001b[37m\u001b[0m \u001b[1m0s\u001b[0m 6ms/step - accuracy: 0.9695 - loss: 0.0991 - val_accuracy: 0.9796 - val_loss: 0.0761 - learning_rate: 0.0010\n",
      "Epoch 49/100\n",
      "\u001b[1m56/56\u001b[0m \u001b[32m━━━━━━━━━━━━━━━━━━━━\u001b[0m\u001b[37m\u001b[0m \u001b[1m0s\u001b[0m 5ms/step - accuracy: 0.9711 - loss: 0.0875 - val_accuracy: 0.9762 - val_loss: 0.0763 - learning_rate: 0.0010\n",
      "Epoch 50/100\n",
      "\u001b[1m56/56\u001b[0m \u001b[32m━━━━━━━━━━━━━━━━━━━━\u001b[0m\u001b[37m\u001b[0m \u001b[1m0s\u001b[0m 5ms/step - accuracy: 0.9683 - loss: 0.0967 - val_accuracy: 0.9762 - val_loss: 0.0755 - learning_rate: 0.0010\n",
      "Epoch 51/100\n",
      "\u001b[1m56/56\u001b[0m \u001b[32m━━━━━━━━━━━━━━━━━━━━\u001b[0m\u001b[37m\u001b[0m \u001b[1m0s\u001b[0m 5ms/step - accuracy: 0.9681 - loss: 0.0951 - val_accuracy: 0.9745 - val_loss: 0.0748 - learning_rate: 0.0010\n",
      "Epoch 52/100\n",
      "\u001b[1m56/56\u001b[0m \u001b[32m━━━━━━━━━━━━━━━━━━━━\u001b[0m\u001b[37m\u001b[0m \u001b[1m0s\u001b[0m 5ms/step - accuracy: 0.9755 - loss: 0.0942 - val_accuracy: 0.9796 - val_loss: 0.0734 - learning_rate: 0.0010\n",
      "Epoch 53/100\n",
      "\u001b[1m56/56\u001b[0m \u001b[32m━━━━━━━━━━━━━━━━━━━━\u001b[0m\u001b[37m\u001b[0m \u001b[1m0s\u001b[0m 5ms/step - accuracy: 0.9578 - loss: 0.1129 - val_accuracy: 0.9745 - val_loss: 0.0759 - learning_rate: 0.0010\n",
      "Epoch 54/100\n",
      "\u001b[1m56/56\u001b[0m \u001b[32m━━━━━━━━━━━━━━━━━━━━\u001b[0m\u001b[37m\u001b[0m \u001b[1m0s\u001b[0m 6ms/step - accuracy: 0.9691 - loss: 0.0967 - val_accuracy: 0.9813 - val_loss: 0.0789 - learning_rate: 0.0010\n",
      "Epoch 55/100\n",
      "\u001b[1m56/56\u001b[0m \u001b[32m━━━━━━━━━━━━━━━━━━━━\u001b[0m\u001b[37m\u001b[0m \u001b[1m0s\u001b[0m 7ms/step - accuracy: 0.9691 - loss: 0.0843 - val_accuracy: 0.9779 - val_loss: 0.0822 - learning_rate: 0.0010\n",
      "Epoch 56/100\n",
      "\u001b[1m56/56\u001b[0m \u001b[32m━━━━━━━━━━━━━━━━━━━━\u001b[0m\u001b[37m\u001b[0m \u001b[1m0s\u001b[0m 6ms/step - accuracy: 0.9639 - loss: 0.1013 - val_accuracy: 0.9762 - val_loss: 0.0717 - learning_rate: 0.0010\n",
      "Epoch 57/100\n",
      "\u001b[1m56/56\u001b[0m \u001b[32m━━━━━━━━━━━━━━━━━━━━\u001b[0m\u001b[37m\u001b[0m \u001b[1m0s\u001b[0m 5ms/step - accuracy: 0.9716 - loss: 0.0888 - val_accuracy: 0.9779 - val_loss: 0.0725 - learning_rate: 0.0010\n",
      "Epoch 58/100\n",
      "\u001b[1m56/56\u001b[0m \u001b[32m━━━━━━━━━━━━━━━━━━━━\u001b[0m\u001b[37m\u001b[0m \u001b[1m0s\u001b[0m 5ms/step - accuracy: 0.9712 - loss: 0.0825 - val_accuracy: 0.9779 - val_loss: 0.0710 - learning_rate: 0.0010\n",
      "Epoch 59/100\n",
      "\u001b[1m56/56\u001b[0m \u001b[32m━━━━━━━━━━━━━━━━━━━━\u001b[0m\u001b[37m\u001b[0m \u001b[1m0s\u001b[0m 5ms/step - accuracy: 0.9717 - loss: 0.0796 - val_accuracy: 0.9830 - val_loss: 0.0657 - learning_rate: 0.0010\n",
      "Epoch 60/100\n",
      "\u001b[1m56/56\u001b[0m \u001b[32m━━━━━━━━━━━━━━━━━━━━\u001b[0m\u001b[37m\u001b[0m \u001b[1m0s\u001b[0m 5ms/step - accuracy: 0.9773 - loss: 0.0760 - val_accuracy: 0.9813 - val_loss: 0.0712 - learning_rate: 0.0010\n",
      "Epoch 61/100\n",
      "\u001b[1m56/56\u001b[0m \u001b[32m━━━━━━━━━━━━━━━━━━━━\u001b[0m\u001b[37m\u001b[0m \u001b[1m0s\u001b[0m 5ms/step - accuracy: 0.9760 - loss: 0.0819 - val_accuracy: 0.9779 - val_loss: 0.0687 - learning_rate: 0.0010\n",
      "Epoch 62/100\n",
      "\u001b[1m56/56\u001b[0m \u001b[32m━━━━━━━━━━━━━━━━━━━━\u001b[0m\u001b[37m\u001b[0m \u001b[1m0s\u001b[0m 6ms/step - accuracy: 0.9640 - loss: 0.1020 - val_accuracy: 0.9796 - val_loss: 0.0685 - learning_rate: 0.0010\n",
      "Epoch 63/100\n",
      "\u001b[1m56/56\u001b[0m \u001b[32m━━━━━━━━━━━━━━━━━━━━\u001b[0m\u001b[37m\u001b[0m \u001b[1m0s\u001b[0m 6ms/step - accuracy: 0.9741 - loss: 0.0805 - val_accuracy: 0.9694 - val_loss: 0.0943 - learning_rate: 0.0010\n",
      "Epoch 64/100\n",
      "\u001b[1m56/56\u001b[0m \u001b[32m━━━━━━━━━━━━━━━━━━━━\u001b[0m\u001b[37m\u001b[0m \u001b[1m0s\u001b[0m 7ms/step - accuracy: 0.9735 - loss: 0.0806 - val_accuracy: 0.9762 - val_loss: 0.0807 - learning_rate: 0.0010\n",
      "Epoch 65/100\n",
      "\u001b[1m56/56\u001b[0m \u001b[32m━━━━━━━━━━━━━━━━━━━━\u001b[0m\u001b[37m\u001b[0m \u001b[1m0s\u001b[0m 7ms/step - accuracy: 0.9779 - loss: 0.0804 - val_accuracy: 0.9847 - val_loss: 0.0652 - learning_rate: 0.0010\n",
      "Epoch 66/100\n",
      "\u001b[1m45/56\u001b[0m \u001b[32m━━━━━━━━━━━━━━━━\u001b[0m\u001b[37m━━━━\u001b[0m \u001b[1m0s\u001b[0m 2ms/step - accuracy: 0.9730 - loss: 0.0889\n",
      "Epoch 66: ReduceLROnPlateau reducing learning rate to 0.0005000000237487257.\n",
      "\u001b[1m56/56\u001b[0m \u001b[32m━━━━━━━━━━━━━━━━━━━━\u001b[0m\u001b[37m\u001b[0m \u001b[1m0s\u001b[0m 5ms/step - accuracy: 0.9731 - loss: 0.0876 - val_accuracy: 0.9864 - val_loss: 0.0706 - learning_rate: 0.0010\n",
      "Epoch 67/100\n",
      "\u001b[1m56/56\u001b[0m \u001b[32m━━━━━━━━━━━━━━━━━━━━\u001b[0m\u001b[37m\u001b[0m \u001b[1m0s\u001b[0m 7ms/step - accuracy: 0.9754 - loss: 0.0708 - val_accuracy: 0.9830 - val_loss: 0.0678 - learning_rate: 5.0000e-04\n",
      "Epoch 68/100\n",
      "\u001b[1m56/56\u001b[0m \u001b[32m━━━━━━━━━━━━━━━━━━━━\u001b[0m\u001b[37m\u001b[0m \u001b[1m0s\u001b[0m 5ms/step - accuracy: 0.9819 - loss: 0.0636 - val_accuracy: 0.9830 - val_loss: 0.0689 - learning_rate: 5.0000e-04\n",
      "Epoch 69/100\n",
      "\u001b[1m56/56\u001b[0m \u001b[32m━━━━━━━━━━━━━━━━━━━━\u001b[0m\u001b[37m\u001b[0m \u001b[1m0s\u001b[0m 5ms/step - accuracy: 0.9821 - loss: 0.0649 - val_accuracy: 0.9830 - val_loss: 0.0675 - learning_rate: 5.0000e-04\n",
      "Epoch 70/100\n",
      "\u001b[1m56/56\u001b[0m \u001b[32m━━━━━━━━━━━━━━━━━━━━\u001b[0m\u001b[37m\u001b[0m \u001b[1m0s\u001b[0m 5ms/step - accuracy: 0.9771 - loss: 0.0696 - val_accuracy: 0.9847 - val_loss: 0.0675 - learning_rate: 5.0000e-04\n",
      "Epoch 71/100\n",
      "\u001b[1m56/56\u001b[0m \u001b[32m━━━━━━━━━━━━━━━━━━━━\u001b[0m\u001b[37m\u001b[0m \u001b[1m0s\u001b[0m 5ms/step - accuracy: 0.9840 - loss: 0.0560 - val_accuracy: 0.9830 - val_loss: 0.0672 - learning_rate: 5.0000e-04\n",
      "Epoch 72/100\n",
      "\u001b[1m56/56\u001b[0m \u001b[32m━━━━━━━━━━━━━━━━━━━━\u001b[0m\u001b[37m\u001b[0m \u001b[1m0s\u001b[0m 5ms/step - accuracy: 0.9800 - loss: 0.0609 - val_accuracy: 0.9796 - val_loss: 0.0745 - learning_rate: 5.0000e-04\n",
      "Epoch 73/100\n",
      "\u001b[1m56/56\u001b[0m \u001b[32m━━━━━━━━━━━━━━━━━━━━\u001b[0m\u001b[37m\u001b[0m \u001b[1m0s\u001b[0m 5ms/step - accuracy: 0.9805 - loss: 0.0629 - val_accuracy: 0.9847 - val_loss: 0.0664 - learning_rate: 5.0000e-04\n",
      "Epoch 74/100\n",
      "\u001b[1m56/56\u001b[0m \u001b[32m━━━━━━━━━━━━━━━━━━━━\u001b[0m\u001b[37m\u001b[0m \u001b[1m0s\u001b[0m 5ms/step - accuracy: 0.9766 - loss: 0.0705 - val_accuracy: 0.9830 - val_loss: 0.0681 - learning_rate: 5.0000e-04\n",
      "Epoch 75/100\n",
      "\u001b[1m56/56\u001b[0m \u001b[32m━━━━━━━━━━━━━━━━━━━━\u001b[0m\u001b[37m\u001b[0m \u001b[1m0s\u001b[0m 5ms/step - accuracy: 0.9830 - loss: 0.0618 - val_accuracy: 0.9847 - val_loss: 0.0682 - learning_rate: 5.0000e-04\n",
      "Epoch 76/100\n",
      "\u001b[1m56/56\u001b[0m \u001b[32m━━━━━━━━━━━━━━━━━━━━\u001b[0m\u001b[37m\u001b[0m \u001b[1m0s\u001b[0m 5ms/step - accuracy: 0.9785 - loss: 0.0639 - val_accuracy: 0.9847 - val_loss: 0.0670 - learning_rate: 5.0000e-04\n",
      "Epoch 77/100\n",
      "\u001b[1m56/56\u001b[0m \u001b[32m━━━━━━━━━━━━━━━━━━━━\u001b[0m\u001b[37m\u001b[0m \u001b[1m0s\u001b[0m 5ms/step - accuracy: 0.9824 - loss: 0.0535 - val_accuracy: 0.9847 - val_loss: 0.0642 - learning_rate: 5.0000e-04\n",
      "Epoch 78/100\n",
      "\u001b[1m56/56\u001b[0m \u001b[32m━━━━━━━━━━━━━━━━━━━━\u001b[0m\u001b[37m\u001b[0m \u001b[1m0s\u001b[0m 6ms/step - accuracy: 0.9807 - loss: 0.0656 - val_accuracy: 0.9796 - val_loss: 0.0885 - learning_rate: 5.0000e-04\n",
      "Epoch 79/100\n",
      "\u001b[1m56/56\u001b[0m \u001b[32m━━━━━━━━━━━━━━━━━━━━\u001b[0m\u001b[37m\u001b[0m \u001b[1m0s\u001b[0m 5ms/step - accuracy: 0.9828 - loss: 0.0549 - val_accuracy: 0.9864 - val_loss: 0.0634 - learning_rate: 5.0000e-04\n",
      "Epoch 80/100\n",
      "\u001b[1m56/56\u001b[0m \u001b[32m━━━━━━━━━━━━━━━━━━━━\u001b[0m\u001b[37m\u001b[0m \u001b[1m0s\u001b[0m 5ms/step - accuracy: 0.9816 - loss: 0.0609 - val_accuracy: 0.9813 - val_loss: 0.0654 - learning_rate: 5.0000e-04\n",
      "Epoch 81/100\n",
      "\u001b[1m56/56\u001b[0m \u001b[32m━━━━━━━━━━━━━━━━━━━━\u001b[0m\u001b[37m\u001b[0m \u001b[1m0s\u001b[0m 5ms/step - accuracy: 0.9847 - loss: 0.0553 - val_accuracy: 0.9847 - val_loss: 0.0654 - learning_rate: 5.0000e-04\n",
      "Epoch 82/100\n",
      "\u001b[1m56/56\u001b[0m \u001b[32m━━━━━━━━━━━━━━━━━━━━\u001b[0m\u001b[37m\u001b[0m \u001b[1m0s\u001b[0m 5ms/step - accuracy: 0.9873 - loss: 0.0478 - val_accuracy: 0.9796 - val_loss: 0.0744 - learning_rate: 5.0000e-04\n",
      "Epoch 83/100\n",
      "\u001b[1m56/56\u001b[0m \u001b[32m━━━━━━━━━━━━━━━━━━━━\u001b[0m\u001b[37m\u001b[0m \u001b[1m0s\u001b[0m 5ms/step - accuracy: 0.9868 - loss: 0.0561 - val_accuracy: 0.9864 - val_loss: 0.0652 - learning_rate: 5.0000e-04\n",
      "Epoch 84/100\n",
      "\u001b[1m56/56\u001b[0m \u001b[32m━━━━━━━━━━━━━━━━━━━━\u001b[0m\u001b[37m\u001b[0m \u001b[1m0s\u001b[0m 5ms/step - accuracy: 0.9815 - loss: 0.0517 - val_accuracy: 0.9847 - val_loss: 0.0627 - learning_rate: 5.0000e-04\n",
      "Epoch 85/100\n",
      "\u001b[1m56/56\u001b[0m \u001b[32m━━━━━━━━━━━━━━━━━━━━\u001b[0m\u001b[37m\u001b[0m \u001b[1m0s\u001b[0m 7ms/step - accuracy: 0.9863 - loss: 0.0468 - val_accuracy: 0.9830 - val_loss: 0.0737 - learning_rate: 5.0000e-04\n",
      "Epoch 86/100\n",
      "\u001b[1m56/56\u001b[0m \u001b[32m━━━━━━━━━━━━━━━━━━━━\u001b[0m\u001b[37m\u001b[0m \u001b[1m0s\u001b[0m 5ms/step - accuracy: 0.9833 - loss: 0.0563 - val_accuracy: 0.9830 - val_loss: 0.0714 - learning_rate: 5.0000e-04\n",
      "Epoch 87/100\n",
      "\u001b[1m56/56\u001b[0m \u001b[32m━━━━━━━━━━━━━━━━━━━━\u001b[0m\u001b[37m\u001b[0m \u001b[1m0s\u001b[0m 5ms/step - accuracy: 0.9799 - loss: 0.0624 - val_accuracy: 0.9847 - val_loss: 0.0622 - learning_rate: 5.0000e-04\n",
      "Epoch 88/100\n",
      "\u001b[1m56/56\u001b[0m \u001b[32m━━━━━━━━━━━━━━━━━━━━\u001b[0m\u001b[37m\u001b[0m \u001b[1m0s\u001b[0m 5ms/step - accuracy: 0.9842 - loss: 0.0526 - val_accuracy: 0.9813 - val_loss: 0.0698 - learning_rate: 5.0000e-04\n",
      "Epoch 89/100\n",
      "\u001b[1m56/56\u001b[0m \u001b[32m━━━━━━━━━━━━━━━━━━━━\u001b[0m\u001b[37m\u001b[0m \u001b[1m0s\u001b[0m 5ms/step - accuracy: 0.9784 - loss: 0.0571 - val_accuracy: 0.9745 - val_loss: 0.0823 - learning_rate: 5.0000e-04\n",
      "Epoch 90/100\n",
      "\u001b[1m56/56\u001b[0m \u001b[32m━━━━━━━━━━━━━━━━━━━━\u001b[0m\u001b[37m\u001b[0m \u001b[1m0s\u001b[0m 6ms/step - accuracy: 0.9849 - loss: 0.0521 - val_accuracy: 0.9813 - val_loss: 0.0687 - learning_rate: 5.0000e-04\n",
      "Epoch 91/100\n",
      "\u001b[1m56/56\u001b[0m \u001b[32m━━━━━━━━━━━━━━━━━━━━\u001b[0m\u001b[37m\u001b[0m \u001b[1m0s\u001b[0m 5ms/step - accuracy: 0.9895 - loss: 0.0468 - val_accuracy: 0.9813 - val_loss: 0.0718 - learning_rate: 5.0000e-04\n",
      "Epoch 92/100\n",
      "\u001b[1m43/56\u001b[0m \u001b[32m━━━━━━━━━━━━━━━\u001b[0m\u001b[37m━━━━━\u001b[0m \u001b[1m0s\u001b[0m 2ms/step - accuracy: 0.9831 - loss: 0.0557\n",
      "Epoch 92: ReduceLROnPlateau reducing learning rate to 0.0002500000118743628.\n",
      "\u001b[1m56/56\u001b[0m \u001b[32m━━━━━━━━━━━━━━━━━━━━\u001b[0m\u001b[37m\u001b[0m \u001b[1m0s\u001b[0m 5ms/step - accuracy: 0.9826 - loss: 0.0578 - val_accuracy: 0.9847 - val_loss: 0.0675 - learning_rate: 5.0000e-04\n",
      "Epoch 93/100\n",
      "\u001b[1m56/56\u001b[0m \u001b[32m━━━━━━━━━━━━━━━━━━━━\u001b[0m\u001b[37m\u001b[0m \u001b[1m0s\u001b[0m 6ms/step - accuracy: 0.9857 - loss: 0.0492 - val_accuracy: 0.9847 - val_loss: 0.0620 - learning_rate: 2.5000e-04\n",
      "Epoch 94/100\n",
      "\u001b[1m56/56\u001b[0m \u001b[32m━━━━━━━━━━━━━━━━━━━━\u001b[0m\u001b[37m\u001b[0m \u001b[1m0s\u001b[0m 6ms/step - accuracy: 0.9832 - loss: 0.0488 - val_accuracy: 0.9847 - val_loss: 0.0624 - learning_rate: 2.5000e-04\n",
      "Epoch 95/100\n",
      "\u001b[1m56/56\u001b[0m \u001b[32m━━━━━━━━━━━━━━━━━━━━\u001b[0m\u001b[37m\u001b[0m \u001b[1m0s\u001b[0m 6ms/step - accuracy: 0.9863 - loss: 0.0519 - val_accuracy: 0.9864 - val_loss: 0.0626 - learning_rate: 2.5000e-04\n",
      "Epoch 96/100\n",
      "\u001b[1m56/56\u001b[0m \u001b[32m━━━━━━━━━━━━━━━━━━━━\u001b[0m\u001b[37m\u001b[0m \u001b[1m0s\u001b[0m 5ms/step - accuracy: 0.9845 - loss: 0.0528 - val_accuracy: 0.9881 - val_loss: 0.0628 - learning_rate: 2.5000e-04\n",
      "Epoch 97/100\n",
      "\u001b[1m56/56\u001b[0m \u001b[32m━━━━━━━━━━━━━━━━━━━━\u001b[0m\u001b[37m\u001b[0m \u001b[1m0s\u001b[0m 6ms/step - accuracy: 0.9870 - loss: 0.0411 - val_accuracy: 0.9864 - val_loss: 0.0664 - learning_rate: 2.5000e-04\n",
      "Epoch 98/100\n",
      "\u001b[1m56/56\u001b[0m \u001b[32m━━━━━━━━━━━━━━━━━━━━\u001b[0m\u001b[37m\u001b[0m \u001b[1m0s\u001b[0m 6ms/step - accuracy: 0.9791 - loss: 0.0569 - val_accuracy: 0.9864 - val_loss: 0.0668 - learning_rate: 2.5000e-04\n",
      "Epoch 99/100\n",
      "\u001b[1m56/56\u001b[0m \u001b[32m━━━━━━━━━━━━━━━━━━━━\u001b[0m\u001b[37m\u001b[0m \u001b[1m0s\u001b[0m 6ms/step - accuracy: 0.9817 - loss: 0.0561 - val_accuracy: 0.9881 - val_loss: 0.0637 - learning_rate: 2.5000e-04\n",
      "Epoch 100/100\n",
      "\u001b[1m56/56\u001b[0m \u001b[32m━━━━━━━━━━━━━━━━━━━━\u001b[0m\u001b[37m\u001b[0m \u001b[1m0s\u001b[0m 5ms/step - accuracy: 0.9836 - loss: 0.0601 - val_accuracy: 0.9864 - val_loss: 0.0631 - learning_rate: 2.5000e-04\n"
     ]
    }
   ],
   "source": [
    "history = model.fit(\n",
    "    x_train,\n",
    "    y_train_cat,\n",
    "    validation_data=(x_val, y_val_cat),\n",
    "    epochs=100,\n",
    "    batch_size=32,\n",
    "    callbacks=[reduce_lr, early_stopping],\n",
    ")"
   ]
  },
  {
   "cell_type": "code",
   "execution_count": 32,
   "id": "83e78b6c",
   "metadata": {},
   "outputs": [
    {
     "data": {
      "image/png": "[encoded data removed]",
      "text/plain": [
       "<Figure size 800x800 with 2 Axes>"
      ]
     },
     "metadata": {},
     "output_type": "display_data"
    }
   ],
   "source": [
    "acc = history.history['accuracy']\n",
    "val_acc = history.history['val_accuracy']\n",
    "\n",
    "loss = history.history['loss']\n",
    "val_loss = history.history['val_loss']\n",
    "\n",
    "epochs_range = range(len(acc))\n",
    "\n",
    "plt.figure(figsize=(8, 8))\n",
    "plt.subplot(1, 2, 1)\n",
    "plt.plot(epochs_range, acc, label='Training Accuracy')\n",
    "plt.plot(epochs_range, val_acc, label='Validation Accuracy')\n",
    "plt.legend(loc='lower right')\n",
    "plt.title('Training and Validation Accuracy')\n",
    "\n",
    "plt.subplot(1, 2, 2)\n",
    "plt.plot(epochs_range, loss, label='Training Loss')\n",
    "plt.plot(epochs_range, val_loss, label='Validation Loss')\n",
    "plt.legend(loc='upper right')\n",
    "plt.title('Training and Validation Loss')\n",
    "plt.show()"
   ]
  },
  {
   "cell_type": "markdown",
   "id": "58382db4",
   "metadata": {},
   "source": [
    "### Guardar modelo"
   ]
  },
  {
   "cell_type": "code",
   "execution_count": 33,
   "id": "afe47c5a",
   "metadata": {},
   "outputs": [
    {
     "name": "stderr",
     "output_type": "stream",
     "text": [
      "WARNING:absl:You are saving your model as an HDF5 file via `model.save()` or `keras.saving.save_model(model)`. This file format is considered legacy. We recommend using instead the native Keras format, e.g. `model.save('my_model.keras')` or `keras.saving.save_model(model, 'my_model.keras')`. \n"
     ]
    }
   ],
   "source": [
    "model.save('rps_model.h5')"
   ]
  },
  {
   "cell_type": "markdown",
   "id": "b0994376",
   "metadata": {},
   "source": [
    "## Script 3"
   ]
  },
  {
   "cell_type": "markdown",
   "id": "465d4a13",
   "metadata": {},
   "source": [
    "### Librerias"
   ]
  },
  {
   "cell_type": "code",
   "execution_count": 34,
   "id": "5f376046",
   "metadata": {},
   "outputs": [
    {
     "name": "stderr",
     "output_type": "stream",
     "text": [
      "WARNING:absl:Compiled the loaded model, but the compiled metrics have yet to be built. `model.compile_metrics` will be empty until you train or evaluate the model.\n"
     ]
    }
   ],
   "source": [
    "rps_model = tf.keras.models.load_model('rps_model.h5')"
   ]
  },
  {
   "cell_type": "code",
   "execution_count": 35,
   "id": "31b495e8",
   "metadata": {},
   "outputs": [
    {
     "name": "stderr",
     "output_type": "stream",
     "text": [
      "WARNING:absl:Compiled the loaded model, but the compiled metrics have yet to be built. `model.compile_metrics` will be empty until you train or evaluate the model.\n"
     ]
    },
    {
     "name": "stdout",
     "output_type": "stream",
     "text": [
      "--- Instrucciones ---\n",
      "Presiona 'q' para salir.\n",
      "Error al capturar frame.\n"
     ]
    }
   ],
   "source": [
    "import cv2\n",
    "import time\n",
    "import numpy as np\n",
    "import mediapipe as mp\n",
    "from mediapipe.tasks import python\n",
    "from mediapipe.tasks.python import vision\n",
    "import tensorflow as tf\n",
    "\n",
    "# Cargar modelo entrenado\n",
    "modelo = tf.keras.models.load_model(\"rps_model.h5\")\n",
    "\n",
    "# Clases\n",
    "clases = [\"Piedra\", \"Papel\", \"Tijera\"]\n",
    "\n",
    "# Iniciar MediaPipe Task\n",
    "base_options = python.BaseOptions(model_asset_path='c:/models/model.task')\n",
    "options = vision.HandLandmarkerOptions(base_options=base_options, num_hands=1)\n",
    "detector = vision.HandLandmarker.create_from_options(options)\n",
    "\n",
    "# Para dibujar\n",
    "# mp_drawing = mp.solutions.drawing_utils\n",
    "# mp_hands = mp.solutions.hands  # solo para conexiones\n",
    "\n",
    "# Iniciar webcam\n",
    "cap = cv2.VideoCapture(0)\n",
    "\n",
    "print(\"--- Instrucciones ---\")\n",
    "print(\"Presiona 'q' para salir.\")\n",
    "\n",
    "while True:\n",
    "    ret, frame = cap.read()\n",
    "    if not ret:\n",
    "        print(\"Error al capturar frame.\")\n",
    "        break\n",
    "\n",
    "    frame = cv2.flip(frame, 1)  # espejo\n",
    "    rgb = cv2.cvtColor(frame, cv2.COLOR_BGR2RGB)\n",
    "\n",
    "    # Crear imagen de MediaPipe\n",
    "    mp_image = mp.Image(image_format=mp.ImageFormat.SRGB, data=rgb)\n",
    "    result = detector.detect(mp_image)\n",
    "\n",
    "    prediccion = None\n",
    "\n",
    "    if result.hand_landmarks:\n",
    "        landmarks = result.hand_landmarks[0]  # 21 puntos\n",
    "\n",
    "        # Extraer x, y\n",
    "        entrada = np.array([coord for lm in landmarks for coord in (lm.x, lm.y)])\n",
    "        entrada = np.expand_dims(entrada, axis=0)  # (1, 42)\n",
    "\n",
    "        salida = modelo.predict(entrada, verbose=0)\n",
    "        clase_idx = np.argmax(salida)\n",
    "        prediccion = clases[clase_idx]\n",
    "        print(prediccion, salida)\n",
    "        # Dibujar los landmarks\n",
    "        # mp_drawing.draw_landmarks(frame, result.hand_landmarks[0], mp_hands.HAND_CONNECTIONS)\n",
    "\n",
    "    # Mostrar resultado\n",
    "    if prediccion:\n",
    "        cv2.putText(frame, f\"Eleccion: {prediccion}\", (10, 40),\n",
    "                    cv2.FONT_HERSHEY_SIMPLEX, 1, (0, 255, 0), 2)\n",
    "\n",
    "    cv2.imshow(\"Piedra, Papel o Tijera\", frame)\n",
    "\n",
    "    if cv2.waitKey(1) & 0xFF == ord('q'):\n",
    "        break\n",
    "\n",
    "cap.release()\n",
    "cv2.destroyAllWindows()\n"
   ]
  }
 ],
 "metadata": {
  "kernelspec": {
   "display_name": ".venv",
   "language": "python",
   "name": "python3"
  },
  "language_info": {
   "codemirror_mode": {
    "name": "ipython",
    "version": 3
   },
   "file_extension": ".py",
   "mimetype": "text/x-python",
   "name": "python",
   "nbconvert_exporter": "python",
   "pygments_lexer": "ipython3",
   "version": "3.10.9"
  }
 },
 "nbformat": 4,
 "nbformat_minor": 5
}

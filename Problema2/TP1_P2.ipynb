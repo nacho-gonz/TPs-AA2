{
 "cells": [
  {
   "cell_type": "markdown",
   "id": "908b0a37",
   "metadata": {},
   "source": [
    "# Problema 2\n",
    "Descripción:\n",
    "El objetivo de este ejercicio es implementar un sistema de clasificación de gestos de \"piedra\", \"papel\" o \"tijeras\" utilizando MediaPipe para la detección de las manos y una red neuronal densa para realizar la clasificación. El ejercicio se dividirá en tres partes, cada una implementada en un script de Python."
   ]
  },
  {
   "cell_type": "markdown",
   "id": "ef2e75d9",
   "metadata": {},
   "source": [
    "Doc de MediaPipe para detección de landmarks:\n",
    "\n",
    "https://ai.google.dev/edge/mediapipe/solutions/vision/hand_landmarker\n",
    "\n",
    "## Objetivo:\n",
    "- 1) Grabación del dataset de gestos: En esta primera parte, se implementará un script llamado record-dataset.py, que permitirá grabar un dataset de gestos utilizando la cámara web y MediaPipe para detectar los landmarks (puntos clave) de la mano. Cada gesto se etiquetará como \"piedra\" (0), \"papel\" (1) o \"tijeras\" (2) y se almacenará junto con sus coordenadas en archivos .npy.\n",
    "\n",
    "- 2) Entrenamiento del clasificador de gestos: En esta segunda parte, se implementará un script llamado train-gesture-classifier.py, donde se entrenará una red neuronal densa utilizando los datos de los landmarks obtenidos en la primera parte. El modelo resultante será capaz de clasificar los gestos basándose en las posiciones de los puntos clave de la mano.\n",
    "\n",
    "- 3) Prueba del sistema completo: En la tercera parte, se implementará un script llamado rock-paper-scissors.py, que tomará como entrada la imagen de la cámara web, utilizará MediaPipe para detectar los landmarks de la mano, y clasificará el gesto en \"piedra\", \"papel\" o \"tijeras\" utilizando el modelo entrenado.\n",
    "\n",
    "## Tareas:\n",
    "\n",
    "- Script 1: Grabación del dataset (record-dataset.py)\n",
    "    - Usar la cámara web para capturar imágenes de la mano.\n",
    "    - Utilizar MediaPipe para detectar los landmarks de la mano (21 puntos clave con coordenadas x y y).\n",
    "    - Almacenar las coordenadas de los landmarks junto con la etiqueta correspondiente (0 para \"piedra\", 1 para \"papel\", 2 para \"tijeras\") en archivos .npy (por ejemplo, rps_dataset.npy y rps_labels.npy).\n",
    "\n",
    "- Script 2: Entrenamiento del clasificador (train-gesture-classifier.py)\n",
    "    - Cargar los datos del dataset grabado en la primera parte.\n",
    "    - Implementar una red neuronal densa que tome como entrada las coordenadas x y y de los 21 puntos clave (un total de 42 entradas).\n",
    "    - Entrenar la red para clasificar los gestos en \"piedra\", \"papel\" o \"tijeras\" usando el dataset.\n",
    "    - Guardar el modelo entrenado en un archivo (por ejemplo, rps_model.h5).\n",
    "\n",
    "- Script 3: Prueba del sistema completo (rock-paper-scissors.py)\n",
    "    - Cargar el modelo entrenado.\n",
    "    - Capturar imágenes de la cámara web en tiempo real.\n",
    "    - Usar MediaPipe para detectar los landmarks y alimentar estos datos al modelo para clasificar el gesto.\n",
    "    - Mostrar el gesto reconocido en pantalla.\n",
    "\n"
   ]
  },
  {
   "cell_type": "markdown",
   "id": "766c5863",
   "metadata": {},
   "source": [
    "## Script 1"
   ]
  },
  {
   "cell_type": "markdown",
   "id": "792c0c70",
   "metadata": {},
   "source": [
    "### Librerias"
   ]
  },
  {
   "cell_type": "code",
   "execution_count": 3,
   "id": "59b70c3c",
   "metadata": {},
   "outputs": [
    {
     "name": "stdout",
     "output_type": "stream",
     "text": [
      "Note: you may need to restart the kernel to use updated packages.\n"
     ]
    },
    {
     "name": "stderr",
     "output_type": "stream",
     "text": [
      "ERROR: Could not install packages due to an OSError: [WinError 5] Access is denied: 'c:\\\\Users\\\\Ignacio González\\\\Desktop\\\\unr\\\\3A - 1C\\\\AA2\\\\TPs-AA2\\\\.venv\\\\Lib\\\\site-packages\\\\cv2\\\\cv2.pyd'\n",
      "Check the permissions.\n",
      "\n"
     ]
    }
   ],
   "source": [
    "%pip install -q opencv-python"
   ]
  },
  {
   "cell_type": "code",
   "execution_count": 1,
   "id": "d94a70fa",
   "metadata": {},
   "outputs": [
    {
     "name": "stderr",
     "output_type": "stream",
     "text": [
      "2025-05-06 19:02:52.404798: I tensorflow/core/platform/cpu_feature_guard.cc:182] This TensorFlow binary is optimized to use available CPU instructions in performance-critical operations.\n",
      "To enable the following instructions: AVX2 FMA, in other operations, rebuild TensorFlow with the appropriate compiler flags.\n"
     ]
    }
   ],
   "source": [
    "import mediapipe as mp\n",
    "from mediapipe.tasks import python\n",
    "from mediapipe.tasks.python import vision\n",
    "import cv2\n",
    "import time\n",
    "import os\n",
    "import urllib.request\n",
    "import numpy as np"
   ]
  },
  {
   "cell_type": "markdown",
   "id": "f8b88b67",
   "metadata": {},
   "source": [
    "### Grabar de imágenes"
   ]
  },
  {
   "cell_type": "code",
   "execution_count": null,
   "id": "c7076bad",
   "metadata": {},
   "outputs": [],
   "source": [
    "webcam = cv2.VideoCapture(0)\n",
    "counter = 1\n",
    "\n",
    "print(\"--- Instrucciones ---\")\n",
    "print(\"Presiona 's' para guardar una foto.\")\n",
    "print(\"Presiona 'q' para salir.\")\n",
    "\n",
    "while True:\n",
    "    try:\n",
    "        check, frame = webcam.read()\n",
    "        if not check:\n",
    "            print(\"No se pudo capturar el frame.\")\n",
    "            break\n",
    "\n",
    "        cv2.imshow(\"Capturando (Presiona 's' para guardar, 'q' para salir)\", frame)\n",
    "\n",
    "        key = cv2.waitKey(1)\n",
    "\n",
    "        if key == ord('s'): \n",
    "            dir = f\"./fotos/piedra\"\n",
    "            filename = f\"{dir}/piedra_{counter}.jpg\"\n",
    "            os.makedirs(dir, exist_ok=True)\n",
    "            cv2.imwrite(filename, frame)\n",
    "            print(f\"Foto guardada como: {filename}\")\n",
    "            counter += 1 \n",
    "\n",
    "        elif key == ord('q'):\n",
    "            print(\"Apagando cámara...\")\n",
    "            webcam.release()\n",
    "            cv2.destroyAllWindows()\n",
    "            print(\"Programa terminado.\")\n",
    "            break\n",
    "\n",
    "    except KeyboardInterrupt:\n",
    "        print(\"\\nApagando cámara...\")\n",
    "        webcam.release()\n",
    "        cv2.destroyAllWindows()\n",
    "        print(\"Programa terminado.\")\n",
    "        break"
   ]
  },
  {
   "cell_type": "markdown",
   "id": "670cd2e5",
   "metadata": {},
   "source": [
    "### Encontrar landmarks y guardarlos"
   ]
  },
  {
   "cell_type": "code",
   "execution_count": 2,
   "id": "1e931034",
   "metadata": {},
   "outputs": [
    {
     "data": {
      "text/plain": [
       "('model.task', <http.client.HTTPMessage at 0x7fc2a42d8a90>)"
      ]
     },
     "execution_count": 2,
     "metadata": {},
     "output_type": "execute_result"
    }
   ],
   "source": [
    "url = 'https://storage.googleapis.com/mediapipe-models/hand_landmarker/hand_landmarker/float16/1/hand_landmarker.task'\n",
    "\n",
    "urllib.request.urlretrieve(url, \"model.task\")"
   ]
  },
  {
   "cell_type": "code",
   "execution_count": 3,
   "id": "63a6e92f",
   "metadata": {},
   "outputs": [],
   "source": [
    "base_options = python.BaseOptions(model_asset_path='./model.task')\n",
    "options = vision.HandLandmarkerOptions(base_options=base_options,\n",
    "                                        num_hands=1)"
   ]
  },
  {
   "cell_type": "code",
   "execution_count": 4,
   "id": "31b0adac",
   "metadata": {},
   "outputs": [
    {
     "name": "stderr",
     "output_type": "stream",
     "text": [
      "WARNING: All log messages before absl::InitializeLog() is called are written to STDERR\n",
      "I0000 00:00:1746558207.201684    3848 task_runner.cc:85] GPU suport is not available: INTERNAL: ; RET_CHECK failure (mediapipe/gpu/gl_context_egl.cc:77) display != EGL_NO_DISPLAYeglGetDisplay() returned error 0x300c\n",
      "INFO: Created TensorFlow Lite XNNPACK delegate for CPU.\n"
     ]
    }
   ],
   "source": [
    "detector = vision.HandLandmarker.create_from_options(options)\n"
   ]
  },
  {
   "cell_type": "code",
   "execution_count": 5,
   "id": "e2c94f7f",
   "metadata": {},
   "outputs": [],
   "source": [
    "lista_puntos = []\n",
    "lista_labels = []\n",
    "ppt = ['papel','piedra','tijera']\n",
    "\n",
    "\n",
    "for gesto in ppt:\n",
    "    for i, foto in enumerate(os.listdir(f'./fotos/{gesto}')):\n",
    "        mp_image = mp.Image.create_from_file(f'./fotos/{gesto}/{gesto}_{i+1}.jpg')\n",
    "        if gesto == 'papel':\n",
    "            lista_labels.append(1)\n",
    "        elif gesto == 'piedra':\n",
    "            lista_labels.append(0)\n",
    "        else:\n",
    "            lista_labels.append(2)\n",
    "\n",
    "        hand_landmarker_result = detector.detect(mp_image)\n",
    "        lista_puntos.append([coord for lm in hand_landmarker_result.hand_landmarks[0] for coord in (lm.x, lm.y)])\n",
    "\n",
    "\n",
    "for gesto in ppt:\n",
    "    for i, foto in enumerate(os.listdir(f'./fotos/fotos_Gonza/{gesto}')):\n",
    "        mp_image = mp.Image.create_from_file(f'./fotos/fotos_Gonza/{gesto}/{foto}')\n",
    "        if gesto == 'papel':\n",
    "            lista_labels.append(1)\n",
    "        elif gesto == 'piedra':\n",
    "            lista_labels.append(0)\n",
    "        else:\n",
    "            lista_labels.append(2)\n",
    "\n",
    "        hand_landmarker_result = detector.detect(mp_image)\n",
    "        try:\n",
    "            lista_puntos.append([coord for lm in hand_landmarker_result.hand_landmarks[0] for coord in (lm.x, lm.y)])\n",
    "        except:\n",
    "            lista_labels.pop()\n",
    "\n",
    "\n",
    "ppt_2 = ['Imagenes_mano_tijera', 'Imagenes_mano_papel', 'Imagenes_mano_piedra']\n",
    "\n",
    "for carpeta in ppt_2:\n",
    "    eleccion = carpeta.split('_')[2]\n",
    "    for i,foto in enumerate(os.listdir(f'./fotos/{carpeta}')):\n",
    "        mp_image = mp.Image.create_from_file(f'./fotos/{carpeta}/{eleccion}_{i+1}.jpg')\n",
    "        if eleccion == 'papel':\n",
    "            lista_labels.append(1)\n",
    "        elif gesto == 'piedra':\n",
    "            lista_labels.append(0)\n",
    "        else:\n",
    "            lista_labels.append(2)\n",
    "        \n",
    "        hand_landmarker_result = detector.detect(mp_image)\n",
    "        try:\n",
    "            lista_puntos.append([coord for lm in hand_landmarker_result.hand_landmarks[0] for coord in (lm.x, lm.y)])\n",
    "        except:\n",
    "            lista_labels.pop()"
   ]
  },
  {
   "cell_type": "code",
   "execution_count": 6,
   "id": "6a82a982",
   "metadata": {},
   "outputs": [],
   "source": [
    "np.save('./rps_dataset.npy', lista_puntos)\n",
    "np.save('./rps_labels.npy', lista_labels)"
   ]
  },
  {
   "cell_type": "markdown",
   "id": "2719e34b",
   "metadata": {},
   "source": [
    "## Script 2"
   ]
  },
  {
   "cell_type": "markdown",
   "id": "8d993e7f",
   "metadata": {},
   "source": [
    "### Librerias"
   ]
  },
  {
   "cell_type": "code",
   "execution_count": 7,
   "id": "c9485e80",
   "metadata": {},
   "outputs": [],
   "source": [
    "import matplotlib.pyplot as plt\n",
    "import pandas as pd\n",
    "import tensorflow as tf\n",
    "from tensorflow.keras.models import Sequential\n",
    "from tensorflow.keras.layers import Dense, Flatten\n",
    "from pathlib import Path\n",
    "from keras.layers import Input, RandomFlip, RandomContrast, BatchNormalization, RandomTranslation, Flatten, Dropout\n",
    "from keras.layers import Dense, Conv2D, Activation, MaxPooling2D, GlobalMaxPooling2D, Rescaling\n",
    "from tensorflow.keras.callbacks import ModelCheckpoint, ReduceLROnPlateau, EarlyStopping\n",
    "from sklearn.model_selection import train_test_split\n",
    "import numpy as np"
   ]
  },
  {
   "cell_type": "markdown",
   "id": "ebd5d1fc",
   "metadata": {},
   "source": [
    "### Entrenamiento del clasificador"
   ]
  },
  {
   "cell_type": "code",
   "execution_count": 8,
   "id": "2cfe3e77",
   "metadata": {},
   "outputs": [],
   "source": [
    "x_data = np.load('./rps_dataset.npy')\n",
    "y_data = np.load('./rps_labels.npy')"
   ]
  },
  {
   "cell_type": "code",
   "execution_count": 9,
   "id": "44972559",
   "metadata": {},
   "outputs": [],
   "source": [
    "x_temp, x_test, y_temp, y_test = train_test_split(x_data, y_data, test_size=0.2,random_state=123,stratify=y_data)\n",
    "\n",
    "x_train, x_val, y_train, y_val = train_test_split(x_temp, y_temp, test_size=0.25, random_state=321, stratify=y_temp)"
   ]
  },
  {
   "cell_type": "code",
   "execution_count": 10,
   "id": "95516f7b",
   "metadata": {},
   "outputs": [],
   "source": [
    "from tensorflow.keras.utils import to_categorical\n",
    "\n",
    "# Suponiendo que tenés 3 clases (0, 1, 2)\n",
    "y_train_cat = to_categorical(y_train, num_classes=3)\n",
    "y_val_cat = to_categorical(y_val, num_classes=3)\n",
    "y_test_cat = to_categorical(y_test, num_classes=3)"
   ]
  },
  {
   "cell_type": "code",
   "execution_count": 11,
   "id": "fac39e9d",
   "metadata": {},
   "outputs": [
    {
     "name": "stdout",
     "output_type": "stream",
     "text": [
      "1 Physical GPUs, 1 Logical GPUs\n"
     ]
    },
    {
     "name": "stderr",
     "output_type": "stream",
     "text": [
      "2025-05-06 19:07:25.277547: I tensorflow/compiler/xla/stream_executor/cuda/cuda_gpu_executor.cc:981] could not open file to read NUMA node: /sys/bus/pci/devices/0000:10:00.0/numa_node\n",
      "Your kernel may have been built without NUMA support.\n",
      "2025-05-06 19:07:25.340174: I tensorflow/compiler/xla/stream_executor/cuda/cuda_gpu_executor.cc:981] could not open file to read NUMA node: /sys/bus/pci/devices/0000:10:00.0/numa_node\n",
      "Your kernel may have been built without NUMA support.\n",
      "2025-05-06 19:07:25.340731: I tensorflow/compiler/xla/stream_executor/cuda/cuda_gpu_executor.cc:981] could not open file to read NUMA node: /sys/bus/pci/devices/0000:10:00.0/numa_node\n",
      "Your kernel may have been built without NUMA support.\n",
      "2025-05-06 19:07:25.346993: I tensorflow/compiler/xla/stream_executor/cuda/cuda_gpu_executor.cc:981] could not open file to read NUMA node: /sys/bus/pci/devices/0000:10:00.0/numa_node\n",
      "Your kernel may have been built without NUMA support.\n",
      "2025-05-06 19:07:25.347657: I tensorflow/compiler/xla/stream_executor/cuda/cuda_gpu_executor.cc:981] could not open file to read NUMA node: /sys/bus/pci/devices/0000:10:00.0/numa_node\n",
      "Your kernel may have been built without NUMA support.\n",
      "2025-05-06 19:07:25.348166: I tensorflow/compiler/xla/stream_executor/cuda/cuda_gpu_executor.cc:981] could not open file to read NUMA node: /sys/bus/pci/devices/0000:10:00.0/numa_node\n",
      "Your kernel may have been built without NUMA support.\n",
      "2025-05-06 19:07:25.618480: I tensorflow/compiler/xla/stream_executor/cuda/cuda_gpu_executor.cc:981] could not open file to read NUMA node: /sys/bus/pci/devices/0000:10:00.0/numa_node\n",
      "Your kernel may have been built without NUMA support.\n",
      "2025-05-06 19:07:25.619425: I tensorflow/compiler/xla/stream_executor/cuda/cuda_gpu_executor.cc:981] could not open file to read NUMA node: /sys/bus/pci/devices/0000:10:00.0/numa_node\n",
      "Your kernel may have been built without NUMA support.\n",
      "2025-05-06 19:07:25.619485: I tensorflow/core/common_runtime/gpu/gpu_device.cc:1726] Could not identify NUMA node of platform GPU id 0, defaulting to 0.  Your kernel may not have been built with NUMA support.\n",
      "2025-05-06 19:07:25.620208: I tensorflow/compiler/xla/stream_executor/cuda/cuda_gpu_executor.cc:981] could not open file to read NUMA node: /sys/bus/pci/devices/0000:10:00.0/numa_node\n",
      "Your kernel may have been built without NUMA support.\n",
      "2025-05-06 19:07:25.620369: I tensorflow/core/common_runtime/gpu/gpu_device.cc:1639] Created device /job:localhost/replica:0/task:0/device:GPU:0 with 1433 MB memory:  -> device: 0, name: NVIDIA GeForce GTX 960, pci bus id: 0000:10:00.0, compute capability: 5.2\n"
     ]
    }
   ],
   "source": [
    "# Configurar para que TensorFlow utilice la GPU por defecto\n",
    "gpus = tf.config.experimental.list_physical_devices('GPU')\n",
    "if gpus:\n",
    "    try:\n",
    "        # Configurar para que TensorFlow asigne memoria dinámicamente\n",
    "        for gpu in gpus:\n",
    "            tf.config.experimental.set_memory_growth(gpu, True)\n",
    "        # Especificar la GPU por defecto\n",
    "        logical_gpus = tf.config.experimental.list_logical_devices('GPU')\n",
    "        print(len(gpus), \"Physical GPUs,\", len(logical_gpus), \"Logical GPUs\")\n",
    "    except RuntimeError as e:\n",
    "        # Manejar error\n",
    "        print(e)"
   ]
  },
  {
   "cell_type": "code",
   "execution_count": 20,
   "id": "55358795",
   "metadata": {},
   "outputs": [],
   "source": [
    "def build_model(input_shape):\n",
    "    i = Input(input_shape, dtype=tf.float32)\n",
    "\n",
    "    x = Dense(32)(i)\n",
    "    x = Activation('relu')(x)\n",
    "    x = Dropout(0.1)(x)\n",
    "\n",
    "    x = Dense(16)(x)\n",
    "    x = Activation('relu')(x)\n",
    "    x = Dropout(0.1)(x)\n",
    "\n",
    "    # x = Dense(64)(x)\n",
    "    # x = Activation('relu')(x)\n",
    "    # x = Dropout(0.1)(x)\n",
    "\n",
    "    x = Dense(3)(x)\n",
    "    output = Activation('softmax')(x)\n",
    "\n",
    "    return tf.keras.Model(inputs=i, outputs=output)\n"
   ]
  },
  {
   "cell_type": "code",
   "execution_count": 21,
   "id": "5ca68194",
   "metadata": {},
   "outputs": [
    {
     "name": "stdout",
     "output_type": "stream",
     "text": [
      "Building model\n"
     ]
    }
   ],
   "source": [
    "print(\"Building model\")\n",
    "model = build_model(input_shape=(x_train.shape[1],))\n",
    "\n",
    "model.compile(\n",
    "    optimizer='adam',\n",
    "    loss=\"categorical_crossentropy\",\n",
    "    metrics=['accuracy'])"
   ]
  },
  {
   "cell_type": "code",
   "execution_count": 22,
   "id": "01eff09c",
   "metadata": {},
   "outputs": [
    {
     "name": "stdout",
     "output_type": "stream",
     "text": [
      "Model: \"model_1\"\n",
      "_________________________________________________________________\n",
      " Layer (type)                Output Shape              Param #   \n",
      "=================================================================\n",
      " input_2 (InputLayer)        [(None, 42)]              0         \n",
      "                                                                 \n",
      " dense_3 (Dense)             (None, 32)                1376      \n",
      "                                                                 \n",
      " activation_3 (Activation)   (None, 32)                0         \n",
      "                                                                 \n",
      " dropout_2 (Dropout)         (None, 32)                0         \n",
      "                                                                 \n",
      " dense_4 (Dense)             (None, 16)                528       \n",
      "                                                                 \n",
      " activation_4 (Activation)   (None, 16)                0         \n",
      "                                                                 \n",
      " dropout_3 (Dropout)         (None, 16)                0         \n",
      "                                                                 \n",
      " dense_5 (Dense)             (None, 3)                 51        \n",
      "                                                                 \n",
      " activation_5 (Activation)   (None, 3)                 0         \n",
      "                                                                 \n",
      "=================================================================\n",
      "Total params: 1955 (7.64 KB)\n",
      "Trainable params: 1955 (7.64 KB)\n",
      "Non-trainable params: 0 (0.00 Byte)\n",
      "_________________________________________________________________\n"
     ]
    }
   ],
   "source": [
    "model.summary()"
   ]
  },
  {
   "cell_type": "code",
   "execution_count": 23,
   "id": "449b9758",
   "metadata": {},
   "outputs": [],
   "source": [
    "early_stopping = EarlyStopping(monitor=\"val_loss\", patience=10, verbose=0, mode=\"min\", restore_best_weights=True)\n",
    "\n",
    "reduce_lr = ReduceLROnPlateau(\n",
    "    monitor=\"loss\", factor=0.5, patience=8, verbose=1, min_delta=1e-4, mode=\"min\"\n",
    ")"
   ]
  },
  {
   "cell_type": "code",
   "execution_count": 24,
   "id": "6383a967",
   "metadata": {},
   "outputs": [
    {
     "name": "stdout",
     "output_type": "stream",
     "text": [
      "Epoch 1/100\n"
     ]
    },
    {
     "name": "stderr",
     "output_type": "stream",
     "text": [
      "2025-05-06 19:10:35.324853: I tensorflow/compiler/xla/service/service.cc:168] XLA service 0x7fc0f81f0210 initialized for platform CUDA (this does not guarantee that XLA will be used). Devices:\n",
      "2025-05-06 19:10:35.324938: I tensorflow/compiler/xla/service/service.cc:176]   StreamExecutor device (0): NVIDIA GeForce GTX 960, Compute Capability 5.2\n",
      "2025-05-06 19:10:35.419659: I tensorflow/compiler/mlir/tensorflow/utils/dump_mlir_util.cc:255] disabling MLIR crash reproducer, set env var `MLIR_CRASH_REPRODUCER_DIRECTORY` to enable.\n",
      "2025-05-06 19:10:35.584193: I tensorflow/compiler/xla/stream_executor/cuda/cuda_dnn.cc:432] Loaded cuDNN version 8600\n",
      "2025-05-06 19:10:36.013116: I ./tensorflow/compiler/jit/device_compiler.h:186] Compiled cluster using XLA!  This line is logged at most once for the lifetime of the process.\n"
     ]
    },
    {
     "name": "stdout",
     "output_type": "stream",
     "text": [
      "56/56 [==============================] - 4s 21ms/step - loss: 1.1224 - accuracy: 0.3895 - val_loss: 1.0714 - val_accuracy: 0.4541 - lr: 0.0010\n",
      "Epoch 2/100\n",
      "56/56 [==============================] - 1s 16ms/step - loss: 1.0643 - accuracy: 0.4518 - val_loss: 1.0541 - val_accuracy: 0.4507 - lr: 0.0010\n",
      "Epoch 3/100\n",
      "56/56 [==============================] - 1s 17ms/step - loss: 1.0477 - accuracy: 0.4711 - val_loss: 1.0348 - val_accuracy: 0.5153 - lr: 0.0010\n",
      "Epoch 4/100\n",
      "56/56 [==============================] - 1s 15ms/step - loss: 1.0345 - accuracy: 0.4938 - val_loss: 1.0085 - val_accuracy: 0.5034 - lr: 0.0010\n",
      "Epoch 5/100\n",
      "56/56 [==============================] - 1s 15ms/step - loss: 1.0006 - accuracy: 0.5380 - val_loss: 0.9720 - val_accuracy: 0.5136 - lr: 0.0010\n",
      "Epoch 6/100\n",
      "56/56 [==============================] - 1s 16ms/step - loss: 0.9620 - accuracy: 0.5714 - val_loss: 0.9189 - val_accuracy: 0.6854 - lr: 0.0010\n",
      "Epoch 7/100\n",
      "56/56 [==============================] - 1s 17ms/step - loss: 0.8996 - accuracy: 0.6202 - val_loss: 0.8472 - val_accuracy: 0.7075 - lr: 0.0010\n",
      "Epoch 8/100\n",
      "56/56 [==============================] - 1s 19ms/step - loss: 0.8199 - accuracy: 0.7012 - val_loss: 0.7588 - val_accuracy: 0.7432 - lr: 0.0010\n",
      "Epoch 9/100\n",
      "56/56 [==============================] - 1s 19ms/step - loss: 0.7301 - accuracy: 0.7619 - val_loss: 0.6597 - val_accuracy: 0.8384 - lr: 0.0010\n",
      "Epoch 10/100\n",
      "56/56 [==============================] - 1s 16ms/step - loss: 0.6490 - accuracy: 0.7874 - val_loss: 0.5880 - val_accuracy: 0.8197 - lr: 0.0010\n",
      "Epoch 11/100\n",
      "56/56 [==============================] - 1s 17ms/step - loss: 0.5838 - accuracy: 0.8073 - val_loss: 0.4947 - val_accuracy: 0.9048 - lr: 0.0010\n",
      "Epoch 12/100\n",
      "56/56 [==============================] - 1s 17ms/step - loss: 0.5229 - accuracy: 0.8401 - val_loss: 0.4337 - val_accuracy: 0.9303 - lr: 0.0010\n",
      "Epoch 13/100\n",
      "56/56 [==============================] - 1s 16ms/step - loss: 0.4490 - accuracy: 0.8781 - val_loss: 0.3805 - val_accuracy: 0.9371 - lr: 0.0010\n",
      "Epoch 14/100\n",
      "56/56 [==============================] - 1s 16ms/step - loss: 0.4123 - accuracy: 0.8929 - val_loss: 0.3207 - val_accuracy: 0.9473 - lr: 0.0010\n",
      "Epoch 15/100\n",
      "56/56 [==============================] - 1s 16ms/step - loss: 0.3582 - accuracy: 0.9104 - val_loss: 0.2820 - val_accuracy: 0.9677 - lr: 0.0010\n",
      "Epoch 16/100\n",
      "56/56 [==============================] - 1s 17ms/step - loss: 0.3211 - accuracy: 0.9138 - val_loss: 0.2538 - val_accuracy: 0.9711 - lr: 0.0010\n",
      "Epoch 17/100\n",
      "56/56 [==============================] - 1s 16ms/step - loss: 0.2952 - accuracy: 0.9263 - val_loss: 0.2236 - val_accuracy: 0.9677 - lr: 0.0010\n",
      "Epoch 18/100\n",
      "56/56 [==============================] - 1s 17ms/step - loss: 0.2634 - accuracy: 0.9354 - val_loss: 0.1956 - val_accuracy: 0.9728 - lr: 0.0010\n",
      "Epoch 19/100\n",
      "56/56 [==============================] - 1s 17ms/step - loss: 0.2523 - accuracy: 0.9365 - val_loss: 0.1852 - val_accuracy: 0.9711 - lr: 0.0010\n",
      "Epoch 20/100\n",
      "56/56 [==============================] - 1s 17ms/step - loss: 0.2310 - accuracy: 0.9433 - val_loss: 0.1842 - val_accuracy: 0.9728 - lr: 0.0010\n",
      "Epoch 21/100\n",
      "56/56 [==============================] - 1s 17ms/step - loss: 0.2263 - accuracy: 0.9354 - val_loss: 0.1796 - val_accuracy: 0.9660 - lr: 0.0010\n",
      "Epoch 22/100\n",
      "56/56 [==============================] - 1s 16ms/step - loss: 0.1977 - accuracy: 0.9529 - val_loss: 0.1479 - val_accuracy: 0.9728 - lr: 0.0010\n",
      "Epoch 23/100\n",
      "56/56 [==============================] - 1s 16ms/step - loss: 0.1857 - accuracy: 0.9512 - val_loss: 0.1365 - val_accuracy: 0.9711 - lr: 0.0010\n",
      "Epoch 24/100\n",
      "56/56 [==============================] - 1s 16ms/step - loss: 0.1795 - accuracy: 0.9467 - val_loss: 0.1440 - val_accuracy: 0.9694 - lr: 0.0010\n",
      "Epoch 25/100\n",
      "56/56 [==============================] - 1s 16ms/step - loss: 0.1556 - accuracy: 0.9586 - val_loss: 0.1292 - val_accuracy: 0.9694 - lr: 0.0010\n",
      "Epoch 26/100\n",
      "56/56 [==============================] - 1s 16ms/step - loss: 0.1581 - accuracy: 0.9575 - val_loss: 0.1063 - val_accuracy: 0.9762 - lr: 0.0010\n",
      "Epoch 27/100\n",
      "56/56 [==============================] - 1s 16ms/step - loss: 0.1489 - accuracy: 0.9575 - val_loss: 0.1042 - val_accuracy: 0.9728 - lr: 0.0010\n",
      "Epoch 28/100\n",
      "56/56 [==============================] - 1s 17ms/step - loss: 0.1549 - accuracy: 0.9558 - val_loss: 0.1035 - val_accuracy: 0.9745 - lr: 0.0010\n",
      "Epoch 29/100\n",
      "56/56 [==============================] - 1s 18ms/step - loss: 0.1335 - accuracy: 0.9654 - val_loss: 0.0924 - val_accuracy: 0.9762 - lr: 0.0010\n",
      "Epoch 30/100\n",
      "56/56 [==============================] - 1s 17ms/step - loss: 0.1308 - accuracy: 0.9643 - val_loss: 0.0958 - val_accuracy: 0.9711 - lr: 0.0010\n",
      "Epoch 31/100\n",
      "56/56 [==============================] - 1s 16ms/step - loss: 0.1207 - accuracy: 0.9626 - val_loss: 0.0916 - val_accuracy: 0.9745 - lr: 0.0010\n",
      "Epoch 32/100\n",
      "56/56 [==============================] - 1s 20ms/step - loss: 0.1199 - accuracy: 0.9637 - val_loss: 0.0862 - val_accuracy: 0.9745 - lr: 0.0010\n",
      "Epoch 33/100\n",
      "56/56 [==============================] - 1s 17ms/step - loss: 0.1133 - accuracy: 0.9671 - val_loss: 0.0833 - val_accuracy: 0.9745 - lr: 0.0010\n",
      "Epoch 34/100\n",
      "56/56 [==============================] - 1s 16ms/step - loss: 0.1135 - accuracy: 0.9632 - val_loss: 0.0944 - val_accuracy: 0.9762 - lr: 0.0010\n",
      "Epoch 35/100\n",
      "56/56 [==============================] - 1s 17ms/step - loss: 0.1155 - accuracy: 0.9666 - val_loss: 0.0845 - val_accuracy: 0.9745 - lr: 0.0010\n",
      "Epoch 36/100\n",
      "56/56 [==============================] - 1s 17ms/step - loss: 0.1022 - accuracy: 0.9722 - val_loss: 0.0793 - val_accuracy: 0.9762 - lr: 0.0010\n",
      "Epoch 37/100\n",
      "56/56 [==============================] - 1s 16ms/step - loss: 0.0926 - accuracy: 0.9722 - val_loss: 0.0730 - val_accuracy: 0.9779 - lr: 0.0010\n",
      "Epoch 38/100\n",
      "56/56 [==============================] - 1s 17ms/step - loss: 0.1124 - accuracy: 0.9660 - val_loss: 0.0903 - val_accuracy: 0.9779 - lr: 0.0010\n",
      "Epoch 39/100\n",
      "56/56 [==============================] - 1s 17ms/step - loss: 0.0885 - accuracy: 0.9773 - val_loss: 0.0929 - val_accuracy: 0.9745 - lr: 0.0010\n",
      "Epoch 40/100\n",
      "56/56 [==============================] - 1s 18ms/step - loss: 0.1017 - accuracy: 0.9739 - val_loss: 0.0789 - val_accuracy: 0.9762 - lr: 0.0010\n",
      "Epoch 41/100\n",
      "56/56 [==============================] - 1s 17ms/step - loss: 0.0941 - accuracy: 0.9700 - val_loss: 0.0684 - val_accuracy: 0.9813 - lr: 0.0010\n",
      "Epoch 42/100\n",
      "56/56 [==============================] - 1s 16ms/step - loss: 0.0803 - accuracy: 0.9785 - val_loss: 0.0747 - val_accuracy: 0.9745 - lr: 0.0010\n",
      "Epoch 43/100\n",
      "56/56 [==============================] - 1s 16ms/step - loss: 0.0858 - accuracy: 0.9762 - val_loss: 0.0692 - val_accuracy: 0.9813 - lr: 0.0010\n",
      "Epoch 44/100\n",
      "56/56 [==============================] - 1s 15ms/step - loss: 0.0864 - accuracy: 0.9717 - val_loss: 0.0795 - val_accuracy: 0.9779 - lr: 0.0010\n",
      "Epoch 45/100\n",
      "56/56 [==============================] - 1s 16ms/step - loss: 0.0850 - accuracy: 0.9739 - val_loss: 0.0687 - val_accuracy: 0.9779 - lr: 0.0010\n",
      "Epoch 46/100\n",
      "56/56 [==============================] - 1s 16ms/step - loss: 0.0846 - accuracy: 0.9694 - val_loss: 0.0661 - val_accuracy: 0.9779 - lr: 0.0010\n",
      "Epoch 47/100\n",
      "56/56 [==============================] - 1s 15ms/step - loss: 0.0678 - accuracy: 0.9807 - val_loss: 0.0722 - val_accuracy: 0.9762 - lr: 0.0010\n",
      "Epoch 48/100\n",
      "56/56 [==============================] - 1s 16ms/step - loss: 0.0708 - accuracy: 0.9768 - val_loss: 0.0583 - val_accuracy: 0.9830 - lr: 0.0010\n",
      "Epoch 49/100\n",
      "56/56 [==============================] - 1s 15ms/step - loss: 0.0765 - accuracy: 0.9762 - val_loss: 0.0656 - val_accuracy: 0.9813 - lr: 0.0010\n",
      "Epoch 50/100\n",
      "56/56 [==============================] - 1s 17ms/step - loss: 0.0680 - accuracy: 0.9796 - val_loss: 0.0581 - val_accuracy: 0.9830 - lr: 0.0010\n",
      "Epoch 51/100\n",
      "56/56 [==============================] - 1s 18ms/step - loss: 0.0731 - accuracy: 0.9807 - val_loss: 0.0669 - val_accuracy: 0.9796 - lr: 0.0010\n",
      "Epoch 52/100\n",
      "56/56 [==============================] - 1s 17ms/step - loss: 0.0654 - accuracy: 0.9802 - val_loss: 0.0640 - val_accuracy: 0.9813 - lr: 0.0010\n",
      "Epoch 53/100\n",
      "56/56 [==============================] - 1s 19ms/step - loss: 0.0761 - accuracy: 0.9790 - val_loss: 0.0800 - val_accuracy: 0.9796 - lr: 0.0010\n",
      "Epoch 54/100\n",
      "56/56 [==============================] - 1s 19ms/step - loss: 0.0575 - accuracy: 0.9847 - val_loss: 0.0736 - val_accuracy: 0.9779 - lr: 0.0010\n",
      "Epoch 55/100\n",
      "56/56 [==============================] - 1s 18ms/step - loss: 0.0611 - accuracy: 0.9824 - val_loss: 0.0588 - val_accuracy: 0.9847 - lr: 0.0010\n",
      "Epoch 56/100\n",
      "56/56 [==============================] - 1s 16ms/step - loss: 0.0492 - accuracy: 0.9898 - val_loss: 0.0537 - val_accuracy: 0.9881 - lr: 0.0010\n",
      "Epoch 57/100\n",
      "56/56 [==============================] - 1s 20ms/step - loss: 0.0741 - accuracy: 0.9779 - val_loss: 0.0862 - val_accuracy: 0.9762 - lr: 0.0010\n",
      "Epoch 58/100\n",
      "56/56 [==============================] - 1s 17ms/step - loss: 0.0728 - accuracy: 0.9796 - val_loss: 0.0628 - val_accuracy: 0.9813 - lr: 0.0010\n",
      "Epoch 59/100\n",
      "56/56 [==============================] - 1s 17ms/step - loss: 0.0651 - accuracy: 0.9802 - val_loss: 0.0637 - val_accuracy: 0.9813 - lr: 0.0010\n",
      "Epoch 60/100\n",
      "56/56 [==============================] - 1s 17ms/step - loss: 0.0560 - accuracy: 0.9864 - val_loss: 0.0575 - val_accuracy: 0.9847 - lr: 0.0010\n",
      "Epoch 61/100\n",
      "56/56 [==============================] - 1s 16ms/step - loss: 0.0675 - accuracy: 0.9762 - val_loss: 0.0681 - val_accuracy: 0.9813 - lr: 0.0010\n",
      "Epoch 62/100\n",
      "56/56 [==============================] - 1s 16ms/step - loss: 0.0747 - accuracy: 0.9734 - val_loss: 0.0525 - val_accuracy: 0.9847 - lr: 0.0010\n",
      "Epoch 63/100\n",
      "56/56 [==============================] - 1s 17ms/step - loss: 0.0525 - accuracy: 0.9836 - val_loss: 0.0658 - val_accuracy: 0.9847 - lr: 0.0010\n",
      "Epoch 64/100\n",
      "56/56 [==============================] - 1s 17ms/step - loss: 0.0441 - accuracy: 0.9881 - val_loss: 0.0575 - val_accuracy: 0.9847 - lr: 0.0010\n",
      "Epoch 65/100\n",
      "56/56 [==============================] - 1s 16ms/step - loss: 0.0493 - accuracy: 0.9841 - val_loss: 0.0605 - val_accuracy: 0.9813 - lr: 0.0010\n",
      "Epoch 66/100\n",
      "56/56 [==============================] - 1s 16ms/step - loss: 0.0478 - accuracy: 0.9858 - val_loss: 0.0581 - val_accuracy: 0.9813 - lr: 0.0010\n",
      "Epoch 67/100\n",
      "56/56 [==============================] - 1s 16ms/step - loss: 0.0661 - accuracy: 0.9813 - val_loss: 0.0565 - val_accuracy: 0.9830 - lr: 0.0010\n",
      "Epoch 68/100\n",
      "56/56 [==============================] - 1s 17ms/step - loss: 0.0465 - accuracy: 0.9875 - val_loss: 0.0650 - val_accuracy: 0.9796 - lr: 0.0010\n",
      "Epoch 69/100\n",
      "56/56 [==============================] - 1s 16ms/step - loss: 0.0578 - accuracy: 0.9819 - val_loss: 0.0639 - val_accuracy: 0.9847 - lr: 0.0010\n",
      "Epoch 70/100\n",
      "56/56 [==============================] - 1s 16ms/step - loss: 0.0550 - accuracy: 0.9847 - val_loss: 0.0571 - val_accuracy: 0.9847 - lr: 0.0010\n",
      "Epoch 71/100\n",
      "56/56 [==============================] - 1s 17ms/step - loss: 0.0623 - accuracy: 0.9807 - val_loss: 0.0714 - val_accuracy: 0.9813 - lr: 0.0010\n",
      "Epoch 72/100\n",
      "52/56 [==========================>...] - ETA: 0s - loss: 0.0582 - accuracy: 0.9790\n",
      "Epoch 72: ReduceLROnPlateau reducing learning rate to 0.0005000000237487257.\n",
      "56/56 [==============================] - 1s 18ms/step - loss: 0.0570 - accuracy: 0.9796 - val_loss: 0.0524 - val_accuracy: 0.9864 - lr: 0.0010\n",
      "Epoch 73/100\n",
      "56/56 [==============================] - 1s 17ms/step - loss: 0.0501 - accuracy: 0.9898 - val_loss: 0.0552 - val_accuracy: 0.9847 - lr: 5.0000e-04\n",
      "Epoch 74/100\n",
      "56/56 [==============================] - 1s 19ms/step - loss: 0.0404 - accuracy: 0.9864 - val_loss: 0.0638 - val_accuracy: 0.9830 - lr: 5.0000e-04\n",
      "Epoch 75/100\n",
      "56/56 [==============================] - 1s 17ms/step - loss: 0.0450 - accuracy: 0.9841 - val_loss: 0.0605 - val_accuracy: 0.9864 - lr: 5.0000e-04\n",
      "Epoch 76/100\n",
      "56/56 [==============================] - 1s 16ms/step - loss: 0.0458 - accuracy: 0.9881 - val_loss: 0.0590 - val_accuracy: 0.9830 - lr: 5.0000e-04\n",
      "Epoch 77/100\n",
      "56/56 [==============================] - 1s 16ms/step - loss: 0.0418 - accuracy: 0.9892 - val_loss: 0.0559 - val_accuracy: 0.9864 - lr: 5.0000e-04\n",
      "Epoch 78/100\n",
      "56/56 [==============================] - 1s 16ms/step - loss: 0.0380 - accuracy: 0.9875 - val_loss: 0.0673 - val_accuracy: 0.9847 - lr: 5.0000e-04\n",
      "Epoch 79/100\n",
      "56/56 [==============================] - 1s 15ms/step - loss: 0.0349 - accuracy: 0.9887 - val_loss: 0.0632 - val_accuracy: 0.9847 - lr: 5.0000e-04\n",
      "Epoch 80/100\n",
      "56/56 [==============================] - 1s 17ms/step - loss: 0.0408 - accuracy: 0.9904 - val_loss: 0.0547 - val_accuracy: 0.9881 - lr: 5.0000e-04\n",
      "Epoch 81/100\n",
      "56/56 [==============================] - 1s 16ms/step - loss: 0.0265 - accuracy: 0.9949 - val_loss: 0.0570 - val_accuracy: 0.9847 - lr: 5.0000e-04\n",
      "Epoch 82/100\n",
      "56/56 [==============================] - 1s 17ms/step - loss: 0.0326 - accuracy: 0.9898 - val_loss: 0.0504 - val_accuracy: 0.9864 - lr: 5.0000e-04\n",
      "Epoch 83/100\n",
      "56/56 [==============================] - 1s 17ms/step - loss: 0.0404 - accuracy: 0.9887 - val_loss: 0.0535 - val_accuracy: 0.9864 - lr: 5.0000e-04\n",
      "Epoch 84/100\n",
      "56/56 [==============================] - 1s 16ms/step - loss: 0.0318 - accuracy: 0.9921 - val_loss: 0.0576 - val_accuracy: 0.9864 - lr: 5.0000e-04\n",
      "Epoch 85/100\n",
      "56/56 [==============================] - 1s 16ms/step - loss: 0.0277 - accuracy: 0.9932 - val_loss: 0.0505 - val_accuracy: 0.9881 - lr: 5.0000e-04\n",
      "Epoch 86/100\n",
      "56/56 [==============================] - 1s 17ms/step - loss: 0.0375 - accuracy: 0.9887 - val_loss: 0.0516 - val_accuracy: 0.9881 - lr: 5.0000e-04\n",
      "Epoch 87/100\n",
      "56/56 [==============================] - 1s 16ms/step - loss: 0.0446 - accuracy: 0.9858 - val_loss: 0.0604 - val_accuracy: 0.9779 - lr: 5.0000e-04\n",
      "Epoch 88/100\n",
      "56/56 [==============================] - 1s 16ms/step - loss: 0.0380 - accuracy: 0.9904 - val_loss: 0.0547 - val_accuracy: 0.9881 - lr: 5.0000e-04\n",
      "Epoch 89/100\n",
      "54/56 [===========================>..] - ETA: 0s - loss: 0.0351 - accuracy: 0.9884\n",
      "Epoch 89: ReduceLROnPlateau reducing learning rate to 0.0002500000118743628.\n",
      "56/56 [==============================] - 1s 16ms/step - loss: 0.0347 - accuracy: 0.9887 - val_loss: 0.0595 - val_accuracy: 0.9830 - lr: 5.0000e-04\n",
      "Epoch 90/100\n",
      "56/56 [==============================] - 1s 16ms/step - loss: 0.0391 - accuracy: 0.9841 - val_loss: 0.0526 - val_accuracy: 0.9881 - lr: 2.5000e-04\n",
      "Epoch 91/100\n",
      "56/56 [==============================] - 1s 16ms/step - loss: 0.0279 - accuracy: 0.9955 - val_loss: 0.0537 - val_accuracy: 0.9864 - lr: 2.5000e-04\n",
      "Epoch 92/100\n",
      "56/56 [==============================] - 1s 16ms/step - loss: 0.0271 - accuracy: 0.9909 - val_loss: 0.0565 - val_accuracy: 0.9864 - lr: 2.5000e-04\n"
     ]
    }
   ],
   "source": [
    "history = model.fit(\n",
    "    x_train,\n",
    "    y_train_cat,\n",
    "    validation_data=(x_val, y_val_cat),\n",
    "    epochs=100,\n",
    "    batch_size=32,\n",
    "    callbacks=[reduce_lr, early_stopping],\n",
    ")"
   ]
  },
  {
   "cell_type": "code",
   "execution_count": 25,
   "id": "83e78b6c",
   "metadata": {},
   "outputs": [
    {
     "data": {
      "image/png": "[encoded data removed]",
      "text/plain": [
       "<Figure size 800x800 with 2 Axes>"
      ]
     },
     "metadata": {},
     "output_type": "display_data"
    }
   ],
   "source": [
    "acc = history.history['accuracy']\n",
    "val_acc = history.history['val_accuracy']\n",
    "\n",
    "loss = history.history['loss']\n",
    "val_loss = history.history['val_loss']\n",
    "\n",
    "epochs_range = range(len(acc))\n",
    "\n",
    "plt.figure(figsize=(8, 8))\n",
    "plt.subplot(1, 2, 1)\n",
    "plt.plot(epochs_range, acc, label='Training Accuracy')\n",
    "plt.plot(epochs_range, val_acc, label='Validation Accuracy')\n",
    "plt.legend(loc='lower right')\n",
    "plt.title('Training and Validation Accuracy')\n",
    "\n",
    "plt.subplot(1, 2, 2)\n",
    "plt.plot(epochs_range, loss, label='Training Loss')\n",
    "plt.plot(epochs_range, val_loss, label='Validation Loss')\n",
    "plt.legend(loc='upper right')\n",
    "plt.title('Training and Validation Loss')\n",
    "plt.show()"
   ]
  },
  {
   "cell_type": "markdown",
   "id": "58382db4",
   "metadata": {},
   "source": [
    "### Guardar modelo"
   ]
  },
  {
   "cell_type": "code",
   "execution_count": 26,
   "id": "afe47c5a",
   "metadata": {},
   "outputs": [
    {
     "name": "stderr",
     "output_type": "stream",
     "text": [
      "/usr/local/lib/python3.8/dist-packages/keras/src/engine/training.py:3000: UserWarning: You are saving your model as an HDF5 file via `model.save()`. This file format is considered legacy. We recommend using instead the native Keras format, e.g. `model.save('my_model.keras')`.\n",
      "  saving_api.save_model(\n"
     ]
    }
   ],
   "source": [
    "model.save('rps_model.h5')"
   ]
  },
  {
   "cell_type": "markdown",
   "id": "b0994376",
   "metadata": {},
   "source": [
    "## Script 3"
   ]
  },
  {
   "cell_type": "markdown",
   "id": "465d4a13",
   "metadata": {},
   "source": [
    "### Librerias"
   ]
  },
  {
   "cell_type": "code",
   "execution_count": 34,
   "id": "5f376046",
   "metadata": {},
   "outputs": [
    {
     "name": "stderr",
     "output_type": "stream",
     "text": [
      "WARNING:absl:Compiled the loaded model, but the compiled metrics have yet to be built. `model.compile_metrics` will be empty until you train or evaluate the model.\n"
     ]
    }
   ],
   "source": [
    "rps_model = tf.keras.models.load_model('rps_model.h5')"
   ]
  },
  {
   "cell_type": "code",
   "execution_count": 35,
   "id": "31b495e8",
   "metadata": {},
   "outputs": [
    {
     "name": "stderr",
     "output_type": "stream",
     "text": [
      "WARNING:absl:Compiled the loaded model, but the compiled metrics have yet to be built. `model.compile_metrics` will be empty until you train or evaluate the model.\n"
     ]
    },
    {
     "name": "stdout",
     "output_type": "stream",
     "text": [
      "--- Instrucciones ---\n",
      "Presiona 'q' para salir.\n",
      "Error al capturar frame.\n"
     ]
    }
   ],
   "source": [
    "import cv2\n",
    "import time\n",
    "import numpy as np\n",
    "import mediapipe as mp\n",
    "from mediapipe.tasks import python\n",
    "from mediapipe.tasks.python import vision\n",
    "import tensorflow as tf\n",
    "\n",
    "# Cargar modelo entrenado\n",
    "modelo = tf.keras.models.load_model(\"rps_model.h5\")\n",
    "\n",
    "# Clases\n",
    "clases = [\"Piedra\", \"Papel\", \"Tijera\"]\n",
    "\n",
    "# Iniciar MediaPipe Task\n",
    "base_options = python.BaseOptions(model_asset_path='c:/models/model.task')\n",
    "options = vision.HandLandmarkerOptions(base_options=base_options, num_hands=1)\n",
    "detector = vision.HandLandmarker.create_from_options(options)\n",
    "\n",
    "# Para dibujar\n",
    "# mp_drawing = mp.solutions.drawing_utils\n",
    "# mp_hands = mp.solutions.hands  # solo para conexiones\n",
    "\n",
    "# Iniciar webcam\n",
    "cap = cv2.VideoCapture(0)\n",
    "\n",
    "print(\"--- Instrucciones ---\")\n",
    "print(\"Presiona 'q' para salir.\")\n",
    "\n",
    "while True:\n",
    "    ret, frame = cap.read()\n",
    "    if not ret:\n",
    "        print(\"Error al capturar frame.\")\n",
    "        break\n",
    "\n",
    "    frame = cv2.flip(frame, 1)  # espejo\n",
    "    rgb = cv2.cvtColor(frame, cv2.COLOR_BGR2RGB)\n",
    "\n",
    "    # Crear imagen de MediaPipe\n",
    "    mp_image = mp.Image(image_format=mp.ImageFormat.SRGB, data=rgb)\n",
    "    result = detector.detect(mp_image)\n",
    "\n",
    "    prediccion = None\n",
    "\n",
    "    if result.hand_landmarks:\n",
    "        landmarks = result.hand_landmarks[0]  # 21 puntos\n",
    "\n",
    "        # Extraer x, y\n",
    "        entrada = np.array([coord for lm in landmarks for coord in (lm.x, lm.y)])\n",
    "        entrada = np.expand_dims(entrada, axis=0)  # (1, 42)\n",
    "\n",
    "        salida = modelo.predict(entrada, verbose=0)\n",
    "        clase_idx = np.argmax(salida)\n",
    "        prediccion = clases[clase_idx]\n",
    "        print(prediccion, salida)\n",
    "        # Dibujar los landmarks\n",
    "        # mp_drawing.draw_landmarks(frame, result.hand_landmarks[0], mp_hands.HAND_CONNECTIONS)\n",
    "\n",
    "    # Mostrar resultado\n",
    "    if prediccion:\n",
    "        cv2.putText(frame, f\"Eleccion: {prediccion}\", (10, 40),\n",
    "                    cv2.FONT_HERSHEY_SIMPLEX, 1, (0, 255, 0), 2)\n",
    "\n",
    "    cv2.imshow(\"Piedra, Papel o Tijera\", frame)\n",
    "\n",
    "    if cv2.waitKey(1) & 0xFF == ord('q'):\n",
    "        break\n",
    "\n",
    "cap.release()\n",
    "cv2.destroyAllWindows()\n"
   ]
  }
 ],
 "metadata": {
  "kernelspec": {
   "display_name": "Python 3",
   "language": "python",
   "name": "python3"
  },
  "language_info": {
   "codemirror_mode": {
    "name": "ipython",
    "version": 3
   },
   "file_extension": ".py",
   "mimetype": "text/x-python",
   "name": "python",
   "nbconvert_exporter": "python",
   "pygments_lexer": "ipython3",
   "version": "3.8.10"
  }
 },
 "nbformat": 4,
 "nbformat_minor": 5
}

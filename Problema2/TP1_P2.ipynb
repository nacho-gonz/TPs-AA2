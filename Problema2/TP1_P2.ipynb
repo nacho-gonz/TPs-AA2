{
 "cells": [
  {
   "cell_type": "markdown",
   "id": "908b0a37",
   "metadata": {},
   "source": [
    "# Problema 2\n",
    "Descripción:\n",
    "El objetivo de este ejercicio es implementar un sistema de clasificación de gestos de \"piedra\", \"papel\" o \"tijeras\" utilizando MediaPipe para la detección de las manos y una red neuronal densa para realizar la clasificación. El ejercicio se dividirá en tres partes, cada una implementada en un script de Python."
   ]
  },
  {
   "cell_type": "markdown",
   "id": "ef2e75d9",
   "metadata": {},
   "source": [
    "Doc de MediaPipe para detección de landmarks:\n",
    "\n",
    "https://ai.google.dev/edge/mediapipe/solutions/vision/hand_landmarker\n",
    "\n",
    "## Objetivo:\n",
    "- 1) Grabación del dataset de gestos: En esta primera parte, se implementará un script llamado record-dataset.py, que permitirá grabar un dataset de gestos utilizando la cámara web y MediaPipe para detectar los landmarks (puntos clave) de la mano. Cada gesto se etiquetará como \"piedra\" (0), \"papel\" (1) o \"tijeras\" (2) y se almacenará junto con sus coordenadas en archivos .npy.\n",
    "\n",
    "- 2) Entrenamiento del clasificador de gestos: En esta segunda parte, se implementará un script llamado train-gesture-classifier.py, donde se entrenará una red neuronal densa utilizando los datos de los landmarks obtenidos en la primera parte. El modelo resultante será capaz de clasificar los gestos basándose en las posiciones de los puntos clave de la mano.\n",
    "\n",
    "- 3) Prueba del sistema completo: En la tercera parte, se implementará un script llamado rock-paper-scissors.py, que tomará como entrada la imagen de la cámara web, utilizará MediaPipe para detectar los landmarks de la mano, y clasificará el gesto en \"piedra\", \"papel\" o \"tijeras\" utilizando el modelo entrenado.\n",
    "\n",
    "## Tareas:\n",
    "\n",
    "- Script 1: Grabación del dataset (record-dataset.py)\n",
    "    - Usar la cámara web para capturar imágenes de la mano.\n",
    "    - Utilizar MediaPipe para detectar los landmarks de la mano (21 puntos clave con coordenadas x y y).\n",
    "    - Almacenar las coordenadas de los landmarks junto con la etiqueta correspondiente (0 para \"piedra\", 1 para \"papel\", 2 para \"tijeras\") en archivos .npy (por ejemplo, rps_dataset.npy y rps_labels.npy).\n",
    "\n",
    "- Script 2: Entrenamiento del clasificador (train-gesture-classifier.py)\n",
    "    - Cargar los datos del dataset grabado en la primera parte.\n",
    "    - Implementar una red neuronal densa que tome como entrada las coordenadas x y y de los 21 puntos clave (un total de 42 entradas).\n",
    "    - Entrenar la red para clasificar los gestos en \"piedra\", \"papel\" o \"tijeras\" usando el dataset.\n",
    "    - Guardar el modelo entrenado en un archivo (por ejemplo, rps_model.h5).\n",
    "\n",
    "- Script 3: Prueba del sistema completo (rock-paper-scissors.py)\n",
    "    - Cargar el modelo entrenado.\n",
    "    - Capturar imágenes de la cámara web en tiempo real.\n",
    "    - Usar MediaPipe para detectar los landmarks y alimentar estos datos al modelo para clasificar el gesto.\n",
    "    - Mostrar el gesto reconocido en pantalla.\n",
    "\n"
   ]
  },
  {
   "cell_type": "markdown",
   "id": "766c5863",
   "metadata": {},
   "source": [
    "## Script 1"
   ]
  },
  {
   "cell_type": "markdown",
   "id": "792c0c70",
   "metadata": {},
   "source": [
    "### Librerias"
   ]
  },
  {
   "cell_type": "code",
   "execution_count": 3,
   "id": "59b70c3c",
   "metadata": {},
   "outputs": [
    {
     "name": "stdout",
     "output_type": "stream",
     "text": [
      "Note: you may need to restart the kernel to use updated packages.\n"
     ]
    },
    {
     "name": "stderr",
     "output_type": "stream",
     "text": [
      "ERROR: Could not install packages due to an OSError: [WinError 5] Access is denied: 'c:\\\\Users\\\\Ignacio González\\\\Desktop\\\\unr\\\\3A - 1C\\\\AA2\\\\TPs-AA2\\\\.venv\\\\Lib\\\\site-packages\\\\cv2\\\\cv2.pyd'\n",
      "Check the permissions.\n",
      "\n"
     ]
    }
   ],
   "source": [
    "%pip install -q opencv-python"
   ]
  },
  {
   "cell_type": "code",
   "execution_count": null,
   "id": "d94a70fa",
   "metadata": {},
   "outputs": [],
   "source": [
    "import mediapipe as mp\n",
    "from mediapipe.tasks import python\n",
    "from mediapipe.tasks.python import vision\n",
    "import cv2\n",
    "import os\n",
    "import urllib.request\n",
    "import numpy as np\n",
    "import shutil\n",
    "from tensorflow.keras.preprocessing.image import ImageDataGenerator\n",
    "from tensorflow.keras.preprocessing.image import img_to_array, load_img"
   ]
  },
  {
   "cell_type": "markdown",
   "id": "f8b88b67",
   "metadata": {},
   "source": [
    "### Grabar de imágenes"
   ]
  },
  {
   "cell_type": "code",
   "execution_count": null,
   "id": "c7076bad",
   "metadata": {},
   "outputs": [],
   "source": [
    "webcam = cv2.VideoCapture(0)\n",
    "counter = 1\n",
    "\n",
    "print(\"--- Instrucciones ---\")\n",
    "print(\"Presiona 's' para guardar una foto.\")\n",
    "print(\"Presiona 'q' para salir.\")\n",
    "\n",
    "while True:\n",
    "    try:\n",
    "        check, frame = webcam.read()\n",
    "        if not check:\n",
    "            print(\"No se pudo capturar el frame.\")\n",
    "            break\n",
    "\n",
    "        cv2.imshow(\"Capturando (Presiona 's' para guardar, 'q' para salir)\", frame)\n",
    "\n",
    "        key = cv2.waitKey(1)\n",
    "\n",
    "        if key == ord('s'): \n",
    "            dir = f\"./fotos/piedra\"\n",
    "            filename = f\"{dir}/piedra_{counter}.jpg\"\n",
    "            os.makedirs(dir, exist_ok=True)\n",
    "            cv2.imwrite(filename, frame)\n",
    "            print(f\"Foto guardada como: {filename}\")\n",
    "            counter += 1 \n",
    "\n",
    "        elif key == ord('q'):\n",
    "            print(\"Apagando cámara...\")\n",
    "            webcam.release()\n",
    "            cv2.destroyAllWindows()\n",
    "            print(\"Programa terminado.\")\n",
    "            break\n",
    "\n",
    "    except KeyboardInterrupt:\n",
    "        print(\"\\nApagando cámara...\")\n",
    "        webcam.release()\n",
    "        cv2.destroyAllWindows()\n",
    "        print(\"Programa terminado.\")\n",
    "        break"
   ]
  },
  {
   "cell_type": "markdown",
   "id": "670cd2e5",
   "metadata": {},
   "source": [
    "### Encontrar landmarks y guardarlos"
   ]
  },
  {
   "cell_type": "code",
   "execution_count": 2,
   "id": "1e931034",
   "metadata": {},
   "outputs": [
    {
     "data": {
      "text/plain": [
       "('model.task', <http.client.HTTPMessage at 0x7fc2a42d8a90>)"
      ]
     },
     "execution_count": 2,
     "metadata": {},
     "output_type": "execute_result"
    }
   ],
   "source": [
    "url = 'https://storage.googleapis.com/mediapipe-models/hand_landmarker/hand_landmarker/float16/1/hand_landmarker.task'\n",
    "\n",
    "urllib.request.urlretrieve(url, \"model.task\")"
   ]
  },
  {
   "cell_type": "code",
   "execution_count": 2,
   "id": "63a6e92f",
   "metadata": {},
   "outputs": [],
   "source": [
    "base_options = python.BaseOptions(model_asset_path='./model.task')\n",
    "options = vision.HandLandmarkerOptions(base_options=base_options,\n",
    "                                        num_hands=1)"
   ]
  },
  {
   "cell_type": "code",
   "execution_count": 3,
   "id": "31b0adac",
   "metadata": {},
   "outputs": [
    {
     "name": "stderr",
     "output_type": "stream",
     "text": [
      "WARNING: All log messages before absl::InitializeLog() is called are written to STDERR\n",
      "I0000 00:00:1746627347.188540    1301 task_runner.cc:85] GPU suport is not available: INTERNAL: ; RET_CHECK failure (mediapipe/gpu/gl_context_egl.cc:77) display != EGL_NO_DISPLAYeglGetDisplay() returned error 0x300c\n",
      "INFO: Created TensorFlow Lite XNNPACK delegate for CPU.\n"
     ]
    }
   ],
   "source": [
    "detector = vision.HandLandmarker.create_from_options(options)\n"
   ]
  },
  {
   "cell_type": "code",
   "execution_count": 9,
   "id": "9cad44e3",
   "metadata": {},
   "outputs": [],
   "source": [
    "ppt = ['papel','piedra','tijera']\n",
    "ppt_2 = ['Imagenes_mano_tijera', 'Imagenes_mano_papel', 'Imagenes_mano_piedra']\n",
    "\n",
    "os.makedirs(os.path.join('./', 'clase_papel'), exist_ok=True)\n",
    "os.makedirs(os.path.join('./', 'clase_tijera'), exist_ok=True)\n",
    "os.makedirs(os.path.join('./', 'clase_piedra'), exist_ok=True)\n",
    "\n",
    "for gesto in ppt:\n",
    "    for i, foto in enumerate(os.listdir(f'./fotos/fotos_Gonza/{gesto}')):\n",
    "        shutil.copy2(f'./fotos/fotos_Gonza/{gesto}/{foto}', f'./clase_{gesto}/{gesto}_{i+1}.jpg')\n",
    "    for j, foto in enumerate(os.listdir(f'./fotos/{gesto}')):\n",
    "        shutil.copy2(f'./fotos/{gesto}/{foto}', f'./clase_{gesto}/{gesto}_{i+j+2}.jpg')\n",
    "\n",
    "for carpeta in ppt_2:\n",
    "    eleccion = carpeta.split('_')[2]\n",
    "    for u ,foto in enumerate(os.listdir(f'./fotos/{carpeta}')):\n",
    "        shutil.copy2(f'./fotos/{carpeta}/{foto}', f'./clase_{eleccion}/{eleccion}_{u+i+j+3}.jpg')\n"
   ]
  },
  {
   "cell_type": "code",
   "execution_count": null,
   "id": "f27ee8ae",
   "metadata": {},
   "outputs": [
    {
     "data": {
      "text/plain": [
       "'./img_clases/clase_papel'"
      ]
     },
     "execution_count": 13,
     "metadata": {},
     "output_type": "execute_result"
    }
   ],
   "source": [
    "os.makedirs(os.path.join('./', 'img_clases'), exist_ok=True)\n",
    "shutil.move('./clase_papel', './img_clases')\n",
    "shutil.move('./clase_tijera', './img_clases')\n",
    "shutil.move('./clase_piedra', './img_clases')"
   ]
  },
  {
   "cell_type": "code",
   "execution_count": 16,
   "id": "6d0bee3d",
   "metadata": {},
   "outputs": [
    {
     "name": "stdout",
     "output_type": "stream",
     "text": [
      "Found 4067 images belonging to 3 classes.\n"
     ]
    }
   ],
   "source": [
    "train_data_dir = './img_clases'  # Cambia esto\n",
    "output_dir = './augmented_images'  # Carpeta para guardar imágenes aumentadas\n",
    "os.makedirs(output_dir, exist_ok=True)\n",
    "\n",
    "datagen = ImageDataGenerator(\n",
    "    rotation_range=30,        # Rotación aleatoria (grados)\n",
    "    width_shift_range=0.1,   # Desplazamiento horizontal (fracción del ancho)\n",
    "    height_shift_range=0.1,  # Desplazamiento vertical (fracción del alto)\n",
    "    shear_range=0.2,         # Deformación de corte\n",
    "    zoom_range=0.2,          # Zoom aleatorio [0.8, 1.2]\n",
    "    horizontal_flip=True,     # Volteo horizontal aleatorio\n",
    "    vertical_flip=False,      # No volteo vertical (depende de tu dataset)\n",
    "    brightness_range=[0.8, 1.2],  # Variación de brillo\n",
    "    fill_mode='nearest'       # Estrategia para rellenar pixeles\n",
    ")\n",
    "\n",
    "batch_size = 32\n",
    "img_width, img_height = 640, 480  # Ajusta según tus necesidades\n",
    "\n",
    "train_generator = datagen.flow_from_directory(\n",
    "    train_data_dir,\n",
    "    target_size=(img_height, img_width),\n",
    "    batch_size=batch_size,\n",
    "    class_mode='categorical',  # Para 3 clases\n",
    "    save_to_dir=output_dir,    # Opcional: guardar imágenes aumentadas\n",
    "    save_prefix='aug',         # Prefijo para imágenes guardadas\n",
    "    save_format='jpg'         # Formato de guardado\n",
    ")"
   ]
  },
  {
   "cell_type": "code",
   "execution_count": 18,
   "id": "d455f4d5",
   "metadata": {},
   "outputs": [
    {
     "name": "stdout",
     "output_type": "stream",
     "text": [
      "Procesando clase: clase_papel\n",
      "Procesando clase: clase_piedra\n",
      "Procesando clase: clase_tijera\n"
     ]
    }
   ],
   "source": [
    "augmentation_factor = 3\n",
    "\n",
    "def augment_and_save(class_folder):\n",
    "    class_path = os.path.join(train_data_dir, class_folder)\n",
    "    output_class_path = os.path.join(output_dir, class_folder)\n",
    "    os.makedirs(output_class_path, exist_ok=True)\n",
    "    \n",
    "    print(f'Procesando clase: {class_folder}')\n",
    "    \n",
    "    for img_name in os.listdir(class_path):\n",
    "        if not img_name.lower().endswith(('.png', '.jpg', '.jpeg')):\n",
    "            continue\n",
    "            \n",
    "        img_path = os.path.join(class_path, img_name)\n",
    "        img = load_img(img_path)  # Cargar imagen original\n",
    "        x = img_to_array(img)     # Convertir a array numpy\n",
    "        x = x.reshape((1,) + x.shape)  # Añadir dimensión de batch\n",
    "        \n",
    "        # Guardar imagen original\n",
    "        original_filename = f'original_{img_name}'\n",
    "        img.save(os.path.join(output_class_path, original_filename))\n",
    "        \n",
    "        # Generar imágenes aumentadas\n",
    "        i = 0\n",
    "        for batch in datagen.flow(x, batch_size=1,\n",
    "                                 save_to_dir=output_class_path,\n",
    "                                 save_prefix='aug',\n",
    "                                 save_format='jpeg'):\n",
    "            i += 1\n",
    "            if i >= augmentation_factor:\n",
    "                break  # Detener después de generar 'augmentation_factor' imágenes\n",
    "\n",
    "\n",
    "for class_folder in os.listdir(train_data_dir):\n",
    "    if os.path.isdir(os.path.join(train_data_dir, class_folder)):\n",
    "        augment_and_save(class_folder)"
   ]
  },
  {
   "cell_type": "code",
   "execution_count": 23,
   "id": "e2c94f7f",
   "metadata": {},
   "outputs": [],
   "source": [
    "lista_puntos = []\n",
    "lista_labels = []\n",
    "ppt = ['clase_papel','clase_piedra','clase_tijera']\n",
    "\n",
    "\n",
    "for gesto in ppt:\n",
    "    for i, foto in enumerate(os.listdir(f'./augmented_images/{gesto}')):\n",
    "        mp_image = mp.Image.create_from_file(f'./augmented_images/{gesto}/{foto}')\n",
    "        if gesto == 'clase_papel':\n",
    "            lista_labels.append(1)\n",
    "        elif gesto == 'clase_piedra':\n",
    "            lista_labels.append(0)\n",
    "        else:\n",
    "            lista_labels.append(2)\n",
    "\n",
    "        hand_landmarker_result = detector.detect(mp_image)\n",
    "        try:\n",
    "            lista_puntos.append([coord for lm in hand_landmarker_result.hand_landmarks[0] for coord in (lm.x, lm.y)])\n",
    "        except:\n",
    "            lista_labels.pop()\n",
    "\n",
    "\n",
    "# for gesto in ppt:\n",
    "#     for i, foto in enumerate(os.listdir(f'./fotos/fotos_Gonza/{gesto}')):\n",
    "#         mp_image = mp.Image.create_from_file(f'./fotos/fotos_Gonza/{gesto}/{foto}')\n",
    "#         if gesto == 'papel':\n",
    "#             lista_labels.append(1)\n",
    "#         elif gesto == 'piedra':\n",
    "#             lista_labels.append(0)\n",
    "#         else:\n",
    "#             lista_labels.append(2)\n",
    "\n",
    "#         hand_landmarker_result = detector.detect(mp_image)\n",
    "#         try:\n",
    "#             lista_puntos.append([coord for lm in hand_landmarker_result.hand_landmarks[0] for coord in (lm.x, lm.y)])\n",
    "#         except:\n",
    "#             lista_labels.pop()\n",
    "\n",
    "\n",
    "# ppt_2 = ['Imagenes_mano_tijera', 'Imagenes_mano_papel', 'Imagenes_mano_piedra']\n",
    "\n",
    "# for carpeta in ppt_2:\n",
    "#     eleccion = carpeta.split('_')[2]\n",
    "#     for i,foto in enumerate(os.listdir(f'./fotos/{carpeta}')):\n",
    "#         mp_image = mp.Image.create_from_file(f'./fotos/{carpeta}/{eleccion}_{i+1}.jpg')\n",
    "#         if eleccion == 'papel':\n",
    "#             lista_labels.append(1)\n",
    "#         elif gesto == 'piedra':\n",
    "#             lista_labels.append(0)\n",
    "#         else:\n",
    "#             lista_labels.append(2)\n",
    "        \n",
    "#         hand_landmarker_result = detector.detect(mp_image)\n",
    "#         try:\n",
    "#             lista_puntos.append([coord for lm in hand_landmarker_result.hand_landmarks[0] for coord in (lm.x, lm.y)])\n",
    "#         except:\n",
    "#             lista_labels.pop()"
   ]
  },
  {
   "cell_type": "code",
   "execution_count": 24,
   "id": "6a82a982",
   "metadata": {},
   "outputs": [],
   "source": [
    "np.save('./rps_dataset.npy', lista_puntos)\n",
    "np.save('./rps_labels.npy', lista_labels)"
   ]
  },
  {
   "cell_type": "markdown",
   "id": "2719e34b",
   "metadata": {},
   "source": [
    "## Script 2"
   ]
  },
  {
   "cell_type": "markdown",
   "id": "8d993e7f",
   "metadata": {},
   "source": [
    "### Librerias"
   ]
  },
  {
   "cell_type": "code",
   "execution_count": 25,
   "id": "c9485e80",
   "metadata": {},
   "outputs": [],
   "source": [
    "import matplotlib.pyplot as plt\n",
    "import pandas as pd\n",
    "import tensorflow as tf\n",
    "from tensorflow.keras.models import Sequential\n",
    "from tensorflow.keras.layers import Dense, Flatten\n",
    "from pathlib import Path\n",
    "from keras.layers import Input, RandomFlip, RandomContrast, BatchNormalization, RandomTranslation, Flatten, Dropout\n",
    "from keras.layers import Dense, Conv2D, Activation, MaxPooling2D, GlobalMaxPooling2D, Rescaling\n",
    "from tensorflow.keras.callbacks import ModelCheckpoint, ReduceLROnPlateau, EarlyStopping\n",
    "from sklearn.model_selection import train_test_split\n",
    "import numpy as np"
   ]
  },
  {
   "cell_type": "markdown",
   "id": "ebd5d1fc",
   "metadata": {},
   "source": [
    "### Entrenamiento del clasificador"
   ]
  },
  {
   "cell_type": "code",
   "execution_count": 26,
   "id": "2cfe3e77",
   "metadata": {},
   "outputs": [],
   "source": [
    "x_data = np.load('./rps_dataset.npy')\n",
    "y_data = np.load('./rps_labels.npy')"
   ]
  },
  {
   "cell_type": "code",
   "execution_count": 27,
   "id": "44972559",
   "metadata": {},
   "outputs": [],
   "source": [
    "x_temp, x_test, y_temp, y_test = train_test_split(x_data, y_data, test_size=0.2,random_state=123,stratify=y_data)\n",
    "\n",
    "x_train, x_val, y_train, y_val = train_test_split(x_temp, y_temp, test_size=0.25, random_state=321, stratify=y_temp)"
   ]
  },
  {
   "cell_type": "code",
   "execution_count": 28,
   "id": "95516f7b",
   "metadata": {},
   "outputs": [],
   "source": [
    "from tensorflow.keras.utils import to_categorical\n",
    "\n",
    "# Suponiendo que tenés 3 clases (0, 1, 2)\n",
    "y_train_cat = to_categorical(y_train, num_classes=3)\n",
    "y_val_cat = to_categorical(y_val, num_classes=3)\n",
    "y_test_cat = to_categorical(y_test, num_classes=3)"
   ]
  },
  {
   "cell_type": "code",
   "execution_count": 29,
   "id": "fac39e9d",
   "metadata": {},
   "outputs": [
    {
     "name": "stdout",
     "output_type": "stream",
     "text": [
      "1 Physical GPUs, 1 Logical GPUs\n"
     ]
    },
    {
     "name": "stderr",
     "output_type": "stream",
     "text": [
      "2025-05-07 16:32:18.762995: I tensorflow/compiler/xla/stream_executor/cuda/cuda_gpu_executor.cc:981] could not open file to read NUMA node: /sys/bus/pci/devices/0000:10:00.0/numa_node\n",
      "Your kernel may have been built without NUMA support.\n",
      "2025-05-07 16:32:18.822342: I tensorflow/compiler/xla/stream_executor/cuda/cuda_gpu_executor.cc:981] could not open file to read NUMA node: /sys/bus/pci/devices/0000:10:00.0/numa_node\n",
      "Your kernel may have been built without NUMA support.\n",
      "2025-05-07 16:32:18.822670: I tensorflow/compiler/xla/stream_executor/cuda/cuda_gpu_executor.cc:981] could not open file to read NUMA node: /sys/bus/pci/devices/0000:10:00.0/numa_node\n",
      "Your kernel may have been built without NUMA support.\n",
      "2025-05-07 16:32:18.831487: I tensorflow/compiler/xla/stream_executor/cuda/cuda_gpu_executor.cc:981] could not open file to read NUMA node: /sys/bus/pci/devices/0000:10:00.0/numa_node\n",
      "Your kernel may have been built without NUMA support.\n",
      "2025-05-07 16:32:18.831868: I tensorflow/compiler/xla/stream_executor/cuda/cuda_gpu_executor.cc:981] could not open file to read NUMA node: /sys/bus/pci/devices/0000:10:00.0/numa_node\n",
      "Your kernel may have been built without NUMA support.\n",
      "2025-05-07 16:32:18.832179: I tensorflow/compiler/xla/stream_executor/cuda/cuda_gpu_executor.cc:981] could not open file to read NUMA node: /sys/bus/pci/devices/0000:10:00.0/numa_node\n",
      "Your kernel may have been built without NUMA support.\n",
      "2025-05-07 16:32:19.021567: I tensorflow/compiler/xla/stream_executor/cuda/cuda_gpu_executor.cc:981] could not open file to read NUMA node: /sys/bus/pci/devices/0000:10:00.0/numa_node\n",
      "Your kernel may have been built without NUMA support.\n",
      "2025-05-07 16:32:19.022025: I tensorflow/compiler/xla/stream_executor/cuda/cuda_gpu_executor.cc:981] could not open file to read NUMA node: /sys/bus/pci/devices/0000:10:00.0/numa_node\n",
      "Your kernel may have been built without NUMA support.\n",
      "2025-05-07 16:32:19.022060: I tensorflow/core/common_runtime/gpu/gpu_device.cc:1726] Could not identify NUMA node of platform GPU id 0, defaulting to 0.  Your kernel may not have been built with NUMA support.\n",
      "2025-05-07 16:32:19.022565: I tensorflow/compiler/xla/stream_executor/cuda/cuda_gpu_executor.cc:981] could not open file to read NUMA node: /sys/bus/pci/devices/0000:10:00.0/numa_node\n",
      "Your kernel may have been built without NUMA support.\n",
      "2025-05-07 16:32:19.022622: I tensorflow/core/common_runtime/gpu/gpu_device.cc:1639] Created device /job:localhost/replica:0/task:0/device:GPU:0 with 1433 MB memory:  -> device: 0, name: NVIDIA GeForce GTX 960, pci bus id: 0000:10:00.0, compute capability: 5.2\n"
     ]
    }
   ],
   "source": [
    "# Configurar para que TensorFlow utilice la GPU por defecto\n",
    "gpus = tf.config.experimental.list_physical_devices('GPU')\n",
    "if gpus:\n",
    "    try:\n",
    "        # Configurar para que TensorFlow asigne memoria dinámicamente\n",
    "        for gpu in gpus:\n",
    "            tf.config.experimental.set_memory_growth(gpu, True)\n",
    "        # Especificar la GPU por defecto\n",
    "        logical_gpus = tf.config.experimental.list_logical_devices('GPU')\n",
    "        print(len(gpus), \"Physical GPUs,\", len(logical_gpus), \"Logical GPUs\")\n",
    "    except RuntimeError as e:\n",
    "        # Manejar error\n",
    "        print(e)"
   ]
  },
  {
   "cell_type": "code",
   "execution_count": 30,
   "id": "55358795",
   "metadata": {},
   "outputs": [],
   "source": [
    "def build_model(input_shape):\n",
    "    i = Input(input_shape, dtype=tf.float32)\n",
    "\n",
    "    x = Dense(32)(i)\n",
    "    x = Activation('relu')(x)\n",
    "    x = Dropout(0.1)(x)\n",
    "\n",
    "    x = Dense(16)(x)\n",
    "    x = Activation('relu')(x)\n",
    "    x = Dropout(0.1)(x)\n",
    "\n",
    "    # x = Dense(64)(x)\n",
    "    # x = Activation('relu')(x)\n",
    "    # x = Dropout(0.1)(x)\n",
    "\n",
    "    x = Dense(3)(x)\n",
    "    output = Activation('softmax')(x)\n",
    "\n",
    "    return tf.keras.Model(inputs=i, outputs=output)\n"
   ]
  },
  {
   "cell_type": "code",
   "execution_count": 31,
   "id": "5ca68194",
   "metadata": {},
   "outputs": [
    {
     "name": "stdout",
     "output_type": "stream",
     "text": [
      "Building model\n"
     ]
    }
   ],
   "source": [
    "print(\"Building model\")\n",
    "model = build_model(input_shape=(x_train.shape[1],))\n",
    "\n",
    "model.compile(\n",
    "    optimizer='adam',\n",
    "    loss=\"categorical_crossentropy\",\n",
    "    metrics=['accuracy'])"
   ]
  },
  {
   "cell_type": "code",
   "execution_count": 32,
   "id": "01eff09c",
   "metadata": {},
   "outputs": [
    {
     "name": "stdout",
     "output_type": "stream",
     "text": [
      "Model: \"model\"\n",
      "_________________________________________________________________\n",
      " Layer (type)                Output Shape              Param #   \n",
      "=================================================================\n",
      " input_1 (InputLayer)        [(None, 42)]              0         \n",
      "                                                                 \n",
      " dense (Dense)               (None, 32)                1376      \n",
      "                                                                 \n",
      " activation (Activation)     (None, 32)                0         \n",
      "                                                                 \n",
      " dropout (Dropout)           (None, 32)                0         \n",
      "                                                                 \n",
      " dense_1 (Dense)             (None, 16)                528       \n",
      "                                                                 \n",
      " activation_1 (Activation)   (None, 16)                0         \n",
      "                                                                 \n",
      " dropout_1 (Dropout)         (None, 16)                0         \n",
      "                                                                 \n",
      " dense_2 (Dense)             (None, 3)                 51        \n",
      "                                                                 \n",
      " activation_2 (Activation)   (None, 3)                 0         \n",
      "                                                                 \n",
      "=================================================================\n",
      "Total params: 1955 (7.64 KB)\n",
      "Trainable params: 1955 (7.64 KB)\n",
      "Non-trainable params: 0 (0.00 Byte)\n",
      "_________________________________________________________________\n"
     ]
    }
   ],
   "source": [
    "model.summary()"
   ]
  },
  {
   "cell_type": "code",
   "execution_count": 33,
   "id": "449b9758",
   "metadata": {},
   "outputs": [],
   "source": [
    "early_stopping = EarlyStopping(monitor=\"val_loss\", patience=10, verbose=0, mode=\"min\", restore_best_weights=True)\n",
    "\n",
    "reduce_lr = ReduceLROnPlateau(\n",
    "    monitor=\"loss\", factor=0.5, patience=8, verbose=1, min_delta=1e-4, mode=\"min\"\n",
    ")"
   ]
  },
  {
   "cell_type": "code",
   "execution_count": 34,
   "id": "6383a967",
   "metadata": {},
   "outputs": [
    {
     "name": "stdout",
     "output_type": "stream",
     "text": [
      "Epoch 1/100\n"
     ]
    },
    {
     "name": "stderr",
     "output_type": "stream",
     "text": [
      "2025-05-07 16:32:35.670493: I tensorflow/compiler/xla/service/service.cc:168] XLA service 0x7f65381d7380 initialized for platform CUDA (this does not guarantee that XLA will be used). Devices:\n",
      "2025-05-07 16:32:35.670609: I tensorflow/compiler/xla/service/service.cc:176]   StreamExecutor device (0): NVIDIA GeForce GTX 960, Compute Capability 5.2\n",
      "2025-05-07 16:32:35.791881: I tensorflow/compiler/mlir/tensorflow/utils/dump_mlir_util.cc:255] disabling MLIR crash reproducer, set env var `MLIR_CRASH_REPRODUCER_DIRECTORY` to enable.\n",
      "2025-05-07 16:32:35.955704: I tensorflow/compiler/xla/stream_executor/cuda/cuda_dnn.cc:432] Loaded cuDNN version 8600\n",
      "2025-05-07 16:32:36.568546: I ./tensorflow/compiler/jit/device_compiler.h:186] Compiled cluster using XLA!  This line is logged at most once for the lifetime of the process.\n"
     ]
    },
    {
     "name": "stdout",
     "output_type": "stream",
     "text": [
      "224/224 [==============================] - 6s 14ms/step - loss: 1.0803 - accuracy: 0.4266 - val_loss: 1.0375 - val_accuracy: 0.6438 - lr: 0.0010\n",
      "Epoch 2/100\n",
      "224/224 [==============================] - 3s 13ms/step - loss: 0.9965 - accuracy: 0.5430 - val_loss: 0.9126 - val_accuracy: 0.7295 - lr: 0.0010\n",
      "Epoch 3/100\n",
      "224/224 [==============================] - 3s 13ms/step - loss: 0.8392 - accuracy: 0.6739 - val_loss: 0.7089 - val_accuracy: 0.7753 - lr: 0.0010\n",
      "Epoch 4/100\n",
      "224/224 [==============================] - 3s 12ms/step - loss: 0.6484 - accuracy: 0.7718 - val_loss: 0.5031 - val_accuracy: 0.8660 - lr: 0.0010\n",
      "Epoch 5/100\n",
      "224/224 [==============================] - 3s 13ms/step - loss: 0.4966 - accuracy: 0.8314 - val_loss: 0.3826 - val_accuracy: 0.8736 - lr: 0.0010\n",
      "Epoch 6/100\n",
      "224/224 [==============================] - 3s 14ms/step - loss: 0.4097 - accuracy: 0.8585 - val_loss: 0.3148 - val_accuracy: 0.8912 - lr: 0.0010\n",
      "Epoch 7/100\n",
      "224/224 [==============================] - 3s 13ms/step - loss: 0.3665 - accuracy: 0.8733 - val_loss: 0.2744 - val_accuracy: 0.9160 - lr: 0.0010\n",
      "Epoch 8/100\n",
      "224/224 [==============================] - 4s 18ms/step - loss: 0.3194 - accuracy: 0.8939 - val_loss: 0.2394 - val_accuracy: 0.9299 - lr: 0.0010\n",
      "Epoch 9/100\n",
      "224/224 [==============================] - 5s 21ms/step - loss: 0.3013 - accuracy: 0.9003 - val_loss: 0.2176 - val_accuracy: 0.9349 - lr: 0.0010\n",
      "Epoch 10/100\n",
      "224/224 [==============================] - 3s 14ms/step - loss: 0.2711 - accuracy: 0.9110 - val_loss: 0.2081 - val_accuracy: 0.9483 - lr: 0.0010\n",
      "Epoch 11/100\n",
      "224/224 [==============================] - 3s 12ms/step - loss: 0.2544 - accuracy: 0.9173 - val_loss: 0.1817 - val_accuracy: 0.9454 - lr: 0.0010\n",
      "Epoch 12/100\n",
      "224/224 [==============================] - 3s 13ms/step - loss: 0.2415 - accuracy: 0.9231 - val_loss: 0.1753 - val_accuracy: 0.9513 - lr: 0.0010\n",
      "Epoch 13/100\n",
      "224/224 [==============================] - 3s 13ms/step - loss: 0.2188 - accuracy: 0.9297 - val_loss: 0.1494 - val_accuracy: 0.9572 - lr: 0.0010\n",
      "Epoch 14/100\n",
      "224/224 [==============================] - 3s 12ms/step - loss: 0.2056 - accuracy: 0.9335 - val_loss: 0.1528 - val_accuracy: 0.9572 - lr: 0.0010\n",
      "Epoch 15/100\n",
      "224/224 [==============================] - 3s 14ms/step - loss: 0.2038 - accuracy: 0.9348 - val_loss: 0.1805 - val_accuracy: 0.9517 - lr: 0.0010\n",
      "Epoch 16/100\n",
      "224/224 [==============================] - 3s 13ms/step - loss: 0.1945 - accuracy: 0.9405 - val_loss: 0.1232 - val_accuracy: 0.9693 - lr: 0.0010\n",
      "Epoch 17/100\n",
      "224/224 [==============================] - 3s 12ms/step - loss: 0.1736 - accuracy: 0.9476 - val_loss: 0.1245 - val_accuracy: 0.9660 - lr: 0.0010\n",
      "Epoch 18/100\n",
      "224/224 [==============================] - 3s 13ms/step - loss: 0.1741 - accuracy: 0.9482 - val_loss: 0.1192 - val_accuracy: 0.9643 - lr: 0.0010\n",
      "Epoch 19/100\n",
      "224/224 [==============================] - 5s 24ms/step - loss: 0.1638 - accuracy: 0.9504 - val_loss: 0.1171 - val_accuracy: 0.9677 - lr: 0.0010\n",
      "Epoch 20/100\n",
      "224/224 [==============================] - 3s 13ms/step - loss: 0.1540 - accuracy: 0.9542 - val_loss: 0.0947 - val_accuracy: 0.9769 - lr: 0.0010\n",
      "Epoch 21/100\n",
      "224/224 [==============================] - 3s 14ms/step - loss: 0.1468 - accuracy: 0.9549 - val_loss: 0.1109 - val_accuracy: 0.9672 - lr: 0.0010\n",
      "Epoch 22/100\n",
      "224/224 [==============================] - 3s 14ms/step - loss: 0.1407 - accuracy: 0.9566 - val_loss: 0.0958 - val_accuracy: 0.9761 - lr: 0.0010\n",
      "Epoch 23/100\n",
      "224/224 [==============================] - 3s 13ms/step - loss: 0.1428 - accuracy: 0.9539 - val_loss: 0.0888 - val_accuracy: 0.9773 - lr: 0.0010\n",
      "Epoch 24/100\n",
      "224/224 [==============================] - 3s 15ms/step - loss: 0.1346 - accuracy: 0.9590 - val_loss: 0.0902 - val_accuracy: 0.9748 - lr: 0.0010\n",
      "Epoch 25/100\n",
      "224/224 [==============================] - 3s 13ms/step - loss: 0.1388 - accuracy: 0.9576 - val_loss: 0.0908 - val_accuracy: 0.9798 - lr: 0.0010\n",
      "Epoch 26/100\n",
      "224/224 [==============================] - 3s 12ms/step - loss: 0.1251 - accuracy: 0.9602 - val_loss: 0.0925 - val_accuracy: 0.9727 - lr: 0.0010\n",
      "Epoch 27/100\n",
      "224/224 [==============================] - 3s 13ms/step - loss: 0.1364 - accuracy: 0.9574 - val_loss: 0.0806 - val_accuracy: 0.9803 - lr: 0.0010\n",
      "Epoch 28/100\n",
      "224/224 [==============================] - 3s 13ms/step - loss: 0.1287 - accuracy: 0.9615 - val_loss: 0.0799 - val_accuracy: 0.9824 - lr: 0.0010\n",
      "Epoch 29/100\n",
      "224/224 [==============================] - 6s 26ms/step - loss: 0.1176 - accuracy: 0.9651 - val_loss: 0.0873 - val_accuracy: 0.9756 - lr: 0.0010\n",
      "Epoch 30/100\n",
      "224/224 [==============================] - 3s 13ms/step - loss: 0.1242 - accuracy: 0.9602 - val_loss: 0.0880 - val_accuracy: 0.9756 - lr: 0.0010\n",
      "Epoch 31/100\n",
      "224/224 [==============================] - 3s 14ms/step - loss: 0.1124 - accuracy: 0.9658 - val_loss: 0.0745 - val_accuracy: 0.9824 - lr: 0.0010\n",
      "Epoch 32/100\n",
      "224/224 [==============================] - 3s 13ms/step - loss: 0.1152 - accuracy: 0.9649 - val_loss: 0.0789 - val_accuracy: 0.9819 - lr: 0.0010\n",
      "Epoch 33/100\n",
      "224/224 [==============================] - 3s 13ms/step - loss: 0.1131 - accuracy: 0.9654 - val_loss: 0.0701 - val_accuracy: 0.9845 - lr: 0.0010\n",
      "Epoch 34/100\n",
      "224/224 [==============================] - 3s 13ms/step - loss: 0.1200 - accuracy: 0.9640 - val_loss: 0.0726 - val_accuracy: 0.9836 - lr: 0.0010\n",
      "Epoch 35/100\n",
      "224/224 [==============================] - 3s 13ms/step - loss: 0.1063 - accuracy: 0.9681 - val_loss: 0.0684 - val_accuracy: 0.9824 - lr: 0.0010\n",
      "Epoch 36/100\n",
      "224/224 [==============================] - 3s 13ms/step - loss: 0.1053 - accuracy: 0.9667 - val_loss: 0.0717 - val_accuracy: 0.9777 - lr: 0.0010\n",
      "Epoch 37/100\n",
      "224/224 [==============================] - 3s 14ms/step - loss: 0.1060 - accuracy: 0.9679 - val_loss: 0.0669 - val_accuracy: 0.9849 - lr: 0.0010\n",
      "Epoch 38/100\n",
      "224/224 [==============================] - 3s 13ms/step - loss: 0.1050 - accuracy: 0.9675 - val_loss: 0.0783 - val_accuracy: 0.9790 - lr: 0.0010\n",
      "Epoch 39/100\n",
      "224/224 [==============================] - 5s 25ms/step - loss: 0.1118 - accuracy: 0.9661 - val_loss: 0.0741 - val_accuracy: 0.9798 - lr: 0.0010\n",
      "Epoch 40/100\n",
      "224/224 [==============================] - 3s 15ms/step - loss: 0.1025 - accuracy: 0.9686 - val_loss: 0.0672 - val_accuracy: 0.9798 - lr: 0.0010\n",
      "Epoch 41/100\n",
      "224/224 [==============================] - 3s 14ms/step - loss: 0.1063 - accuracy: 0.9671 - val_loss: 0.0588 - val_accuracy: 0.9866 - lr: 0.0010\n",
      "Epoch 42/100\n",
      "224/224 [==============================] - 3s 13ms/step - loss: 0.0923 - accuracy: 0.9721 - val_loss: 0.0569 - val_accuracy: 0.9857 - lr: 0.0010\n",
      "Epoch 43/100\n",
      "224/224 [==============================] - 3s 13ms/step - loss: 0.1021 - accuracy: 0.9695 - val_loss: 0.0620 - val_accuracy: 0.9853 - lr: 0.0010\n",
      "Epoch 44/100\n",
      "224/224 [==============================] - 3s 13ms/step - loss: 0.0974 - accuracy: 0.9710 - val_loss: 0.0671 - val_accuracy: 0.9849 - lr: 0.0010\n",
      "Epoch 45/100\n",
      "224/224 [==============================] - 3s 13ms/step - loss: 0.0899 - accuracy: 0.9723 - val_loss: 0.0598 - val_accuracy: 0.9857 - lr: 0.0010\n",
      "Epoch 46/100\n",
      "224/224 [==============================] - 3s 13ms/step - loss: 0.0890 - accuracy: 0.9731 - val_loss: 0.0894 - val_accuracy: 0.9706 - lr: 0.0010\n",
      "Epoch 47/100\n",
      "224/224 [==============================] - 3s 13ms/step - loss: 0.0996 - accuracy: 0.9700 - val_loss: 0.0675 - val_accuracy: 0.9824 - lr: 0.0010\n",
      "Epoch 48/100\n",
      "224/224 [==============================] - 3s 13ms/step - loss: 0.0844 - accuracy: 0.9758 - val_loss: 0.0665 - val_accuracy: 0.9845 - lr: 0.0010\n",
      "Epoch 49/100\n",
      "224/224 [==============================] - 6s 26ms/step - loss: 0.0852 - accuracy: 0.9733 - val_loss: 0.0679 - val_accuracy: 0.9845 - lr: 0.0010\n",
      "Epoch 50/100\n",
      "224/224 [==============================] - 3s 13ms/step - loss: 0.0884 - accuracy: 0.9735 - val_loss: 0.0672 - val_accuracy: 0.9845 - lr: 0.0010\n",
      "Epoch 51/100\n",
      "224/224 [==============================] - 3s 14ms/step - loss: 0.0840 - accuracy: 0.9740 - val_loss: 0.0725 - val_accuracy: 0.9836 - lr: 0.0010\n",
      "Epoch 52/100\n",
      "224/224 [==============================] - 3s 13ms/step - loss: 0.0913 - accuracy: 0.9727 - val_loss: 0.0569 - val_accuracy: 0.9853 - lr: 0.0010\n",
      "Epoch 53/100\n",
      "224/224 [==============================] - 3s 13ms/step - loss: 0.0915 - accuracy: 0.9747 - val_loss: 0.0606 - val_accuracy: 0.9861 - lr: 0.0010\n",
      "Epoch 54/100\n",
      "224/224 [==============================] - 3s 13ms/step - loss: 0.0913 - accuracy: 0.9714 - val_loss: 0.0618 - val_accuracy: 0.9853 - lr: 0.0010\n",
      "Epoch 55/100\n",
      "224/224 [==============================] - 3s 13ms/step - loss: 0.0831 - accuracy: 0.9759 - val_loss: 0.0570 - val_accuracy: 0.9853 - lr: 0.0010\n",
      "Epoch 56/100\n",
      "224/224 [==============================] - 3s 13ms/step - loss: 0.0867 - accuracy: 0.9734 - val_loss: 0.0667 - val_accuracy: 0.9828 - lr: 0.0010\n",
      "Epoch 57/100\n",
      "224/224 [==============================] - 3s 13ms/step - loss: 0.0792 - accuracy: 0.9773 - val_loss: 0.0802 - val_accuracy: 0.9803 - lr: 0.0010\n",
      "Epoch 58/100\n",
      "224/224 [==============================] - 3s 14ms/step - loss: 0.0910 - accuracy: 0.9714 - val_loss: 0.0588 - val_accuracy: 0.9870 - lr: 0.0010\n",
      "Epoch 59/100\n",
      "224/224 [==============================] - 6s 25ms/step - loss: 0.0826 - accuracy: 0.9749 - val_loss: 0.0550 - val_accuracy: 0.9845 - lr: 0.0010\n",
      "Epoch 60/100\n",
      "224/224 [==============================] - 3s 13ms/step - loss: 0.0861 - accuracy: 0.9748 - val_loss: 0.0557 - val_accuracy: 0.9887 - lr: 0.0010\n",
      "Epoch 61/100\n",
      "224/224 [==============================] - 3s 14ms/step - loss: 0.0812 - accuracy: 0.9759 - val_loss: 0.0576 - val_accuracy: 0.9861 - lr: 0.0010\n",
      "Epoch 62/100\n",
      "224/224 [==============================] - 3s 15ms/step - loss: 0.0858 - accuracy: 0.9740 - val_loss: 0.0556 - val_accuracy: 0.9861 - lr: 0.0010\n",
      "Epoch 63/100\n",
      "224/224 [==============================] - 3s 13ms/step - loss: 0.0769 - accuracy: 0.9762 - val_loss: 0.0731 - val_accuracy: 0.9828 - lr: 0.0010\n",
      "Epoch 64/100\n",
      "224/224 [==============================] - 3s 13ms/step - loss: 0.0846 - accuracy: 0.9737 - val_loss: 0.0573 - val_accuracy: 0.9874 - lr: 0.0010\n",
      "Epoch 65/100\n",
      "224/224 [==============================] - 3s 13ms/step - loss: 0.0843 - accuracy: 0.9735 - val_loss: 0.0529 - val_accuracy: 0.9866 - lr: 0.0010\n",
      "Epoch 66/100\n",
      "224/224 [==============================] - 3s 13ms/step - loss: 0.0870 - accuracy: 0.9744 - val_loss: 0.0704 - val_accuracy: 0.9811 - lr: 0.0010\n",
      "Epoch 67/100\n",
      "224/224 [==============================] - 3s 13ms/step - loss: 0.0829 - accuracy: 0.9762 - val_loss: 0.0516 - val_accuracy: 0.9870 - lr: 0.0010\n",
      "Epoch 68/100\n",
      "224/224 [==============================] - 3s 13ms/step - loss: 0.0863 - accuracy: 0.9713 - val_loss: 0.0538 - val_accuracy: 0.9870 - lr: 0.0010\n",
      "Epoch 69/100\n",
      "224/224 [==============================] - 5s 24ms/step - loss: 0.0780 - accuracy: 0.9759 - val_loss: 0.0568 - val_accuracy: 0.9857 - lr: 0.0010\n",
      "Epoch 70/100\n",
      "224/224 [==============================] - 3s 13ms/step - loss: 0.0787 - accuracy: 0.9758 - val_loss: 0.0573 - val_accuracy: 0.9887 - lr: 0.0010\n",
      "Epoch 71/100\n",
      "224/224 [==============================] - 3s 14ms/step - loss: 0.0718 - accuracy: 0.9770 - val_loss: 0.0596 - val_accuracy: 0.9857 - lr: 0.0010\n",
      "Epoch 72/100\n",
      "224/224 [==============================] - 3s 14ms/step - loss: 0.0783 - accuracy: 0.9777 - val_loss: 0.0588 - val_accuracy: 0.9878 - lr: 0.0010\n",
      "Epoch 73/100\n",
      "224/224 [==============================] - 3s 14ms/step - loss: 0.0730 - accuracy: 0.9786 - val_loss: 0.0510 - val_accuracy: 0.9887 - lr: 0.0010\n",
      "Epoch 74/100\n",
      "224/224 [==============================] - 3s 14ms/step - loss: 0.0785 - accuracy: 0.9747 - val_loss: 0.0678 - val_accuracy: 0.9824 - lr: 0.0010\n",
      "Epoch 75/100\n",
      "224/224 [==============================] - 3s 13ms/step - loss: 0.0752 - accuracy: 0.9775 - val_loss: 0.0711 - val_accuracy: 0.9824 - lr: 0.0010\n",
      "Epoch 76/100\n",
      "224/224 [==============================] - 3s 15ms/step - loss: 0.0779 - accuracy: 0.9759 - val_loss: 0.0596 - val_accuracy: 0.9870 - lr: 0.0010\n",
      "Epoch 77/100\n",
      "224/224 [==============================] - 3s 14ms/step - loss: 0.0724 - accuracy: 0.9798 - val_loss: 0.0507 - val_accuracy: 0.9878 - lr: 0.0010\n",
      "Epoch 78/100\n",
      "224/224 [==============================] - 3s 16ms/step - loss: 0.0711 - accuracy: 0.9783 - val_loss: 0.0540 - val_accuracy: 0.9891 - lr: 0.0010\n",
      "Epoch 79/100\n",
      "224/224 [==============================] - 6s 25ms/step - loss: 0.0618 - accuracy: 0.9807 - val_loss: 0.0463 - val_accuracy: 0.9908 - lr: 0.0010\n",
      "Epoch 80/100\n",
      "224/224 [==============================] - 3s 13ms/step - loss: 0.0712 - accuracy: 0.9782 - val_loss: 0.0517 - val_accuracy: 0.9870 - lr: 0.0010\n",
      "Epoch 81/100\n",
      "224/224 [==============================] - 3s 14ms/step - loss: 0.0724 - accuracy: 0.9766 - val_loss: 0.0514 - val_accuracy: 0.9874 - lr: 0.0010\n",
      "Epoch 82/100\n",
      "224/224 [==============================] - 3s 13ms/step - loss: 0.0749 - accuracy: 0.9768 - val_loss: 0.0478 - val_accuracy: 0.9887 - lr: 0.0010\n",
      "Epoch 83/100\n",
      "224/224 [==============================] - 3s 13ms/step - loss: 0.0661 - accuracy: 0.9821 - val_loss: 0.0467 - val_accuracy: 0.9899 - lr: 0.0010\n",
      "Epoch 84/100\n",
      "224/224 [==============================] - 3s 13ms/step - loss: 0.0692 - accuracy: 0.9800 - val_loss: 0.0481 - val_accuracy: 0.9882 - lr: 0.0010\n",
      "Epoch 85/100\n",
      "224/224 [==============================] - 3s 13ms/step - loss: 0.0658 - accuracy: 0.9790 - val_loss: 0.0635 - val_accuracy: 0.9836 - lr: 0.0010\n",
      "Epoch 86/100\n",
      "224/224 [==============================] - 3s 13ms/step - loss: 0.0676 - accuracy: 0.9787 - val_loss: 0.0571 - val_accuracy: 0.9887 - lr: 0.0010\n",
      "Epoch 87/100\n",
      "223/224 [============================>.] - ETA: 0s - loss: 0.0700 - accuracy: 0.9784\n",
      "Epoch 87: ReduceLROnPlateau reducing learning rate to 0.0005000000237487257.\n",
      "224/224 [==============================] - 3s 14ms/step - loss: 0.0700 - accuracy: 0.9784 - val_loss: 0.0572 - val_accuracy: 0.9853 - lr: 0.0010\n",
      "Epoch 88/100\n",
      "224/224 [==============================] - 3s 14ms/step - loss: 0.0600 - accuracy: 0.9828 - val_loss: 0.0493 - val_accuracy: 0.9887 - lr: 5.0000e-04\n",
      "Epoch 89/100\n",
      "224/224 [==============================] - 6s 26ms/step - loss: 0.0603 - accuracy: 0.9821 - val_loss: 0.0481 - val_accuracy: 0.9891 - lr: 5.0000e-04\n"
     ]
    }
   ],
   "source": [
    "history = model.fit(\n",
    "    x_train,\n",
    "    y_train_cat,\n",
    "    validation_data=(x_val, y_val_cat),\n",
    "    epochs=100,\n",
    "    batch_size=32,\n",
    "    callbacks=[reduce_lr, early_stopping],\n",
    ")"
   ]
  },
  {
   "cell_type": "code",
   "execution_count": 35,
   "id": "83e78b6c",
   "metadata": {},
   "outputs": [
    {
     "data": {
      "image/png": "[encoded data removed]",
      "text/plain": [
       "<Figure size 800x800 with 2 Axes>"
      ]
     },
     "metadata": {},
     "output_type": "display_data"
    }
   ],
   "source": [
    "acc = history.history['accuracy']\n",
    "val_acc = history.history['val_accuracy']\n",
    "\n",
    "loss = history.history['loss']\n",
    "val_loss = history.history['val_loss']\n",
    "\n",
    "epochs_range = range(len(acc))\n",
    "\n",
    "plt.figure(figsize=(8, 8))\n",
    "plt.subplot(1, 2, 1)\n",
    "plt.plot(epochs_range, acc, label='Training Accuracy')\n",
    "plt.plot(epochs_range, val_acc, label='Validation Accuracy')\n",
    "plt.legend(loc='lower right')\n",
    "plt.title('Training and Validation Accuracy')\n",
    "\n",
    "plt.subplot(1, 2, 2)\n",
    "plt.plot(epochs_range, loss, label='Training Loss')\n",
    "plt.plot(epochs_range, val_loss, label='Validation Loss')\n",
    "plt.legend(loc='upper right')\n",
    "plt.title('Training and Validation Loss')\n",
    "plt.show()"
   ]
  },
  {
   "cell_type": "markdown",
   "id": "58382db4",
   "metadata": {},
   "source": [
    "### Guardar modelo"
   ]
  },
  {
   "cell_type": "code",
   "execution_count": 36,
   "id": "afe47c5a",
   "metadata": {},
   "outputs": [
    {
     "name": "stderr",
     "output_type": "stream",
     "text": [
      "/usr/local/lib/python3.8/dist-packages/keras/src/engine/training.py:3000: UserWarning: You are saving your model as an HDF5 file via `model.save()`. This file format is considered legacy. We recommend using instead the native Keras format, e.g. `model.save('my_model.keras')`.\n",
      "  saving_api.save_model(\n"
     ]
    }
   ],
   "source": [
    "model.save('rps_model.h5')"
   ]
  },
  {
   "cell_type": "markdown",
   "id": "b0994376",
   "metadata": {},
   "source": [
    "## Script 3"
   ]
  },
  {
   "cell_type": "markdown",
   "id": "465d4a13",
   "metadata": {},
   "source": [
    "### Librerias"
   ]
  },
  {
   "cell_type": "code",
   "execution_count": 34,
   "id": "5f376046",
   "metadata": {},
   "outputs": [
    {
     "name": "stderr",
     "output_type": "stream",
     "text": [
      "WARNING:absl:Compiled the loaded model, but the compiled metrics have yet to be built. `model.compile_metrics` will be empty until you train or evaluate the model.\n"
     ]
    }
   ],
   "source": [
    "rps_model = tf.keras.models.load_model('rps_model.h5')"
   ]
  },
  {
   "cell_type": "code",
   "execution_count": 35,
   "id": "31b495e8",
   "metadata": {},
   "outputs": [
    {
     "name": "stderr",
     "output_type": "stream",
     "text": [
      "WARNING:absl:Compiled the loaded model, but the compiled metrics have yet to be built. `model.compile_metrics` will be empty until you train or evaluate the model.\n"
     ]
    },
    {
     "name": "stdout",
     "output_type": "stream",
     "text": [
      "--- Instrucciones ---\n",
      "Presiona 'q' para salir.\n",
      "Error al capturar frame.\n"
     ]
    }
   ],
   "source": [
    "import cv2\n",
    "import time\n",
    "import numpy as np\n",
    "import mediapipe as mp\n",
    "from mediapipe.tasks import python\n",
    "from mediapipe.tasks.python import vision\n",
    "import tensorflow as tf\n",
    "\n",
    "# Cargar modelo entrenado\n",
    "modelo = tf.keras.models.load_model(\"rps_model.h5\")\n",
    "\n",
    "# Clases\n",
    "clases = [\"Piedra\", \"Papel\", \"Tijera\"]\n",
    "\n",
    "# Iniciar MediaPipe Task\n",
    "base_options = python.BaseOptions(model_asset_path='c:/models/model.task')\n",
    "options = vision.HandLandmarkerOptions(base_options=base_options, num_hands=1)\n",
    "detector = vision.HandLandmarker.create_from_options(options)\n",
    "\n",
    "# Para dibujar\n",
    "# mp_drawing = mp.solutions.drawing_utils\n",
    "# mp_hands = mp.solutions.hands  # solo para conexiones\n",
    "\n",
    "# Iniciar webcam\n",
    "cap = cv2.VideoCapture(0)\n",
    "\n",
    "print(\"--- Instrucciones ---\")\n",
    "print(\"Presiona 'q' para salir.\")\n",
    "\n",
    "while True:\n",
    "    ret, frame = cap.read()\n",
    "    if not ret:\n",
    "        print(\"Error al capturar frame.\")\n",
    "        break\n",
    "\n",
    "    frame = cv2.flip(frame, 1)  # espejo\n",
    "    rgb = cv2.cvtColor(frame, cv2.COLOR_BGR2RGB)\n",
    "\n",
    "    # Crear imagen de MediaPipe\n",
    "    mp_image = mp.Image(image_format=mp.ImageFormat.SRGB, data=rgb)\n",
    "    result = detector.detect(mp_image)\n",
    "\n",
    "    prediccion = None\n",
    "\n",
    "    if result.hand_landmarks:\n",
    "        landmarks = result.hand_landmarks[0]  # 21 puntos\n",
    "\n",
    "        # Extraer x, y\n",
    "        entrada = np.array([coord for lm in landmarks for coord in (lm.x, lm.y)])\n",
    "        entrada = np.expand_dims(entrada, axis=0)  # (1, 42)\n",
    "\n",
    "        salida = modelo.predict(entrada, verbose=0)\n",
    "        clase_idx = np.argmax(salida)\n",
    "        prediccion = clases[clase_idx]\n",
    "        print(prediccion, salida)\n",
    "        # Dibujar los landmarks\n",
    "        # mp_drawing.draw_landmarks(frame, result.hand_landmarks[0], mp_hands.HAND_CONNECTIONS)\n",
    "\n",
    "    # Mostrar resultado\n",
    "    if prediccion:\n",
    "        cv2.putText(frame, f\"Eleccion: {prediccion}\", (10, 40),\n",
    "                    cv2.FONT_HERSHEY_SIMPLEX, 1, (0, 255, 0), 2)\n",
    "\n",
    "    cv2.imshow(\"Piedra, Papel o Tijera\", frame)\n",
    "\n",
    "    if cv2.waitKey(1) & 0xFF == ord('q'):\n",
    "        break\n",
    "\n",
    "cap.release()\n",
    "cv2.destroyAllWindows()\n"
   ]
  }
 ],
 "metadata": {
  "kernelspec": {
   "display_name": "Python 3",
   "language": "python",
   "name": "python3"
  },
  "language_info": {
   "codemirror_mode": {
    "name": "ipython",
    "version": 3
   },
   "file_extension": ".py",
   "mimetype": "text/x-python",
   "name": "python",
   "nbconvert_exporter": "python",
   "pygments_lexer": "ipython3",
   "version": "3.8.10"
  }
 },
 "nbformat": 4,
 "nbformat_minor": 5
}
